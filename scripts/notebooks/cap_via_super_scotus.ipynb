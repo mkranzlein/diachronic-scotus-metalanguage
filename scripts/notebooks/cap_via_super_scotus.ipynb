{
 "cells": [
  {
   "cell_type": "markdown",
   "metadata": {},
   "source": [
    "### Sourcing SCOTUS from Harvard's [Caselaw Access Project (CAP)](https://case.law/)\n",
    "\n",
    "Goal: retrieve all opinions written by the Supreme Court for a specified year range.\n",
    "\n",
    "SCOTUS denies thousands of cases every year, and each denial gets its own document, so we can't just grab all SCOTUS documents from CAP for a specified year. We need docket numbers for the cases that granted cert and argued before the court. Here, we source those docket numbers from the [Super-SCOTUS dataset](https://dataverse.harvard.edu/dataset.xhtml?persistentId=doi:10.7910/DVN/POWQIT) [[paper](https://aclanthology.org/2023.nllp-1.20/)].\n",
    "\n",
    "1. Get docket numbers for the years 1986-2019 from superscotus.\n",
    "2. For each year, request a small sample (~15) cases from CAP. (waiting on unmetered API access before pulling full set)\n",
    "\n",
    "**Case issues**\n",
    "- [Board of Education v. Tom F.](https://cite.case.law/us/552/1/) Here, there was a recusal, and the court split 4-4, leading to a ~2-sentence per curiam opinion saying the lower court was affirmed by default. For some reason, you can't search for this case by docket number (via web or API)\n",
    "- [Altantic Sounding Co. v. Townsend](https://cite.case.law/us/557/404/): Classified as 11th circuit instead of SCOTUS, so 9009 court filter returns 0 results with this case's docket number"
   ]
  },
  {
   "cell_type": "code",
   "execution_count": null,
   "metadata": {},
   "outputs": [],
   "source": [
    "%cd -q ../..\n",
    "\n",
    "import csv\n",
    "from collections import defaultdict\n",
    "\n",
    "import jsonlines\n",
    "import pandas as pd\n",
    "\n",
    "from scotus_metalang import cap"
   ]
  },
  {
   "cell_type": "code",
   "execution_count": null,
   "metadata": {},
   "outputs": [],
   "source": [
    "docket_nums_by_year = defaultdict(list)\n",
    "with jsonlines.open(\"data/super_scotus/1986_to_2019.jsonl\", \"r\") as f:\n",
    "    for case in f:\n",
    "        # Example case id: \"1986_84-2022\"\n",
    "        year = case[\"year\"]\n",
    "        docket_number = case[\"id\"][5:]\n",
    "        docket_nums_by_year[year].append(docket_number)\n",
    "fourteen_from_each = []\n",
    "for year in range(1986,2020):\n",
    "    fourteen_from_each += docket_nums_by_year[year][:14]"
   ]
  },
  {
   "cell_type": "code",
   "execution_count": null,
   "metadata": {},
   "outputs": [],
   "source": [
    "cases = []\n",
    "data_report = []\n",
    "with open(\"data/logs/cap_scraping_log.tsv\", \"w\") as f:\n",
    "    writer = csv.writer(f, delimiter=\"\\t\")\n",
    "    header = [\"docket_number\", \"cases_returned\", \"case_id_selected\", \"num_opinions\", \"authors\"]\n",
    "    writer.writerow(header)\n",
    "    for docket_number in fourteen_from_each[:5]:  # Sample here to limit API usage while tinkering\n",
    "        api_response = cap.cases_by_docket_number(docket_number)\n",
    "        # No case\n",
    "        if api_response[\"count\"] == 0:\n",
    "            writer.writerow([docket_number, 0, None, None, None])\n",
    "        else:\n",
    "            # Make note of the count and which doc we ended up choosing\n",
    "            case_id = cap.id_of_longest_casebody(api_response)\n",
    "            case_json = cap.case_json_by_id(case_id)\n",
    "            # TODO: Decide if the whole json is necessary to save or if we can just get the opinions\n",
    "            # TODO: Count number of opinions and add \n",
    "            cases.append(case_json)"
   ]
  },
  {
   "cell_type": "markdown",
   "metadata": {},
   "source": [
    "TODO: handle\n",
    "\n",
    "```\n",
    "case[\"casebody\"] =\n",
    "{'status': 'ok',\n",
    "{'status': 'error_limit_exceeded'\n",
    "```"
   ]
  },
  {
   "cell_type": "code",
   "execution_count": null,
   "metadata": {},
   "outputs": [],
   "source": [
    "for x in cases:\n",
    "    if list(x.keys()[0]) != \"id\":\n",
    "        for opinion in x[\"casebody\"][\"data\"][\"opinions\"]:\n",
    "            if opinion[\"author\"] is None:    \n",
    "                print(x)\n",
    "        break"
   ]
  },
  {
   "cell_type": "code",
   "execution_count": null,
   "metadata": {},
   "outputs": [],
   "source": [
    "target = \"data/harvard_cap/14_cases_from_1986_to_2019.jsonl\"\n",
    "with jsonlines.open(target, \"w\") as f:\n",
    "    f.write_all(cases)\n",
    "    print(f\"{len(cases)} written to {target}\")"
   ]
  }
 ],
 "metadata": {
  "kernelspec": {
   "display_name": "scotus-metalang",
   "language": "python",
   "name": "python3"
  },
  "language_info": {
   "codemirror_mode": {
    "name": "ipython",
    "version": 3
   },
   "file_extension": ".py",
   "mimetype": "text/x-python",
   "name": "python",
   "nbconvert_exporter": "python",
   "pygments_lexer": "ipython3",
   "version": "3.9.13"
  }
 },
 "nbformat": 4,
 "nbformat_minor": 2
}
