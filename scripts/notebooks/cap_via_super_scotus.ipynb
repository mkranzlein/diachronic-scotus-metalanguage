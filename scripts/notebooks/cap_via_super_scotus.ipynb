{
 "cells": [
  {
   "cell_type": "markdown",
   "metadata": {},
   "source": [
    "### Sourcing SCOTUS from Harvard's [Caselaw Access Project (CAP)](https://case.law/)\n",
    "\n",
    "Goal: retrieve all opinions written by the Supreme Court for a specified year range.\n",
    "\n",
    "SCOTUS denies thousands of cases every year, and each denial gets its own document, so we can't just grab all SCOTUS documents from CAP for a specified year. We need docket numbers for the cases that granted cert and argued before the court. Here, we source those docket numbers from the [Super-SCOTUS dataset](https://dataverse.harvard.edu/dataset.xhtml?persistentId=doi:10.7910/DVN/POWQIT) [[paper](https://aclanthology.org/2023.nllp-1.20/)].\n",
    "\n",
    "1. Get docket numbers for the years 1986-2019 from superscotus.\n",
    "2. For each year, request a small sample (~15) cases from CAP. (waiting on unmetered API access before pulling full set)\n",
    "\n",
    "**Case issues**\n",
    "- [Board of Education v. Tom F.](https://cite.case.law/us/552/1/) Here, there was a recusal, and the court split 4-4, leading to a ~2-sentence per curiam opinion saying the lower court was affirmed by default. For some reason, you can't search for this case by docket number (via web or API)\n",
    "- [Altantic Sounding Co. v. Townsend](https://cite.case.law/us/557/404/): Classified as 11th circuit instead of SCOTUS, so 9009 court filter returns 0 results with this case's docket number"
   ]
  },
  {
   "cell_type": "code",
   "execution_count": null,
   "metadata": {},
   "outputs": [],
   "source": [
    "# TODO: Scriptify this notebook"
   ]
  },
  {
   "cell_type": "code",
   "execution_count": 1,
   "metadata": {},
   "outputs": [],
   "source": [
    "%cd -q ../..\n",
    "\n",
    "import asyncio\n",
    "import os\n",
    "import sqlite3\n",
    "from collections import defaultdict\n",
    "from itertools import chain\n",
    "from pathlib import Path\n",
    "\n",
    "import aiohttp\n",
    "import jsonlines\n",
    "from dotenv import load_dotenv\n",
    "\n",
    "from scotus_metalang import cap\n",
    "from scotus_metalang.authors import AUTHOR_MAP\n",
    "\n",
    "load_dotenv()\n",
    "CAP_TOKEN = os.environ[\"CAP_TOKEN\"]\n",
    "\n",
    "docket_nums_by_year = defaultdict(list)\n",
    "with jsonlines.open(\"data/super_scotus/1986_to_2019.jsonl\", \"r\") as f:\n",
    "    for case in f:\n",
    "        # Example case id: \"1986_84-2022\"\n",
    "        year = case[\"year\"]\n",
    "        docket_number = case[\"id\"][5:]\n",
    "        docket_nums_by_year[year].append(docket_number)\n",
    "\n",
    "docket_numbers = list(chain(*docket_nums_by_year.values()))\n",
    "docket_numbers = [{\"docket_number\": x} for x in docket_numbers]\n"
   ]
  },
  {
   "cell_type": "code",
   "execution_count": 2,
   "metadata": {},
   "outputs": [
    {
     "data": {
      "text/plain": [
       "2853"
      ]
     },
     "execution_count": 2,
     "metadata": {},
     "output_type": "execute_result"
    }
   ],
   "source": [
    "connection = sqlite3.connect(\"api_log.db\")\n",
    "# Insert all docket numbers into cases\n",
    "with connection:\n",
    "    connection.executemany(\"\"\"--sql\n",
    "                           INSERT OR IGNORE INTO cases (docket_number)\n",
    "                           VALUES(:docket_number)\n",
    "                           \"\"\", docket_numbers)\n",
    "# Figure out which docket numbers need to be processed\n",
    "with connection:\n",
    "    rows = connection.execute(\"\"\"--sql\n",
    "                              SELECT * FROM cases\n",
    "                              WHERE case_status != 'success' OR case_status IS NULL\n",
    "                              \"\"\").fetchall()\n",
    "docket_numbers_to_process = [row[0] for row in rows]\n",
    "\n",
    "len(docket_numbers_to_process)"
   ]
  },
  {
   "cell_type": "code",
   "execution_count": 3,
   "metadata": {},
   "outputs": [],
   "source": [
    "async def main():\n",
    "    connector = aiohttp.TCPConnector(limit_per_host=10)\n",
    "    headers={\"Authorization\": f\"Token {CAP_TOKEN}\"}\n",
    "    async with aiohttp.ClientSession(connector=connector, headers=headers) as session:\n",
    "        for i, docket_number in enumerate(docket_numbers_to_process):  # Sample here to limit API usage while tinkering\n",
    "            db_params, opinions_as_params = await cap.process_opinions_by_docket_number(docket_number, session)\n",
    "            with connection:\n",
    "                connection.execute(\"\"\"--sql\n",
    "                                   UPDATE cases\n",
    "                                   SET case_status = :case_status,\n",
    "                                   selected_case_id = :selected_case_id,\n",
    "                                   decision_date = :decision_date\n",
    "                                   WHERE docket_number = :docket_number\n",
    "                                   \"\"\", db_params)\n",
    "                connection.executemany(\"\"\"--sql\n",
    "                                       INSERT INTO opinions\n",
    "                                       VALUES(:docket_number, :opinion_number, :cap_author, :author)\n",
    "                                       \"\"\", opinions_as_params)"
   ]
  },
  {
   "cell_type": "code",
   "execution_count": 4,
   "metadata": {},
   "outputs": [
    {
     "name": "stdout",
     "output_type": "stream",
     "text": [
      "No author for 85-920 opinion 0\n",
      "No author for 85-1233 opinion 0\n",
      "No author for 85-1021 opinion 0\n",
      "No author for 87-1224 opinion 0\n",
      "No author for 89-700 opinion 0\n",
      "No author for 109-orig opinion 0\n",
      "No author for 91-17 opinion 1\n",
      "No author for 91-122 opinion 0\n",
      "No author for 90-7675 opinion 3\n",
      "No author for 91-7604 opinion 0\n",
      "No author for 91-2086 opinion 0\n",
      "No author for 91-6646 opinion 0\n",
      "No author for 108-orig opinion 0\n",
      "No author for 93-44 opinion 3\n",
      "No author for 94-6790 opinion 1\n",
      "No author for 95-1521 opinion 0\n",
      "No author for 96-1925 opinion 0\n",
      "No author for 97-288 opinion 0\n",
      "No author for 97-1235 opinion 0\n",
      "No author for 99-116 opinion 1\n",
      "No author for 99-5739 opinion 2\n",
      "No author for 00-1543 opinion 0\n",
      "No author for 00-511 opinion 0\n",
      "No author for 128-orig opinion 0\n",
      "No author for 03-1407 opinion 0\n",
      "No author for 05-5705 opinion 0\n",
      "No author for 08-1498 opinion 1\n",
      "No author for 11-9335 opinion 0\n",
      "No author for 11-1425 opinion 0\n",
      "No author for 12-246 opinion 0\n",
      "No author for 12-158 opinion 0\n",
      "No author for 12-1173 opinion 0\n",
      "No author for 13-339 opinion 0\n",
      "No author for 12-7822 opinion 0\n",
      "No author for 12-10882 opinion 0\n",
      "No author for 12-609 opinion 0\n",
      "No author for 12-3 opinion 0\n",
      "No author for 12-536 opinion 0\n",
      "No author for 12-1128 opinion 0\n",
      "No author for 12-1184 opinion 0\n",
      "No author for 12-1117 opinion 0\n",
      "No author for 12-895 opinion 0\n",
      "No author for 12-930 opinion 0\n",
      "No author for 12-1371 opinion 0\n",
      "No author for 12-1146 opinion 0\n",
      "No author for 13-1402 opinion 0\n",
      "No author for 13-1499 opinion 0\n",
      "No author for 13-7451 opinion 0\n",
      "No author for 14-1516 opinion 0\n",
      "No author for 14-915 opinion 0\n",
      "No author for 14-520 opinion 0\n",
      "No author for 14-419 opinion 0\n",
      "No author for 15-1293 opinion 0\n",
      "No author for 15-577 opinion 0\n",
      "No author for 16-1454 opinion 0\n",
      "No author for 16-498 opinion 0\n",
      "No author for 15-1498 opinion 0\n",
      "No author for 17-1107 opinion 0\n",
      "No author for 18-15 opinion 0\n",
      "No author for 18-6210 opinion 0\n",
      "No author for 16-1363 opinion 0\n",
      "No author for 17-1672 opinion 0\n",
      "No author for 16-1275 opinion 0\n",
      "No author for 16-1498 opinion 0\n",
      "No author for 19-631 opinion 0\n",
      "No author for 18-1323 opinion 0\n",
      "No author for 18-217 opinion 0\n",
      "No author for 19-7 opinion 0\n"
     ]
    }
   ],
   "source": [
    "await main()"
   ]
  },
  {
   "cell_type": "code",
   "execution_count": null,
   "metadata": {},
   "outputs": [],
   "source": [
    "# Docket numbers to exclude on potential rerun\n",
    "with connection:\n",
    "    rows = connection.execute(\"\"\"--sql\n",
    "                             SELECT docket_number\n",
    "                             FROM opinions\n",
    "                             GROUP BY docket_number\n",
    "                             HAVING cap_author is not null\n",
    "                             \"\"\").fetchall()\n",
    "\n",
    "docket_numbers_to_exclude = [row[0] for row in rows]\n",
    "docket_numbers_to_exclude\n",
    "\n",
    "docket_nums = list(set(docket_numbers_to_process) - set(docket_numbers_to_exclude))"
   ]
  }
 ],
 "metadata": {
  "kernelspec": {
   "display_name": "scotus-metalang",
   "language": "python",
   "name": "python3"
  },
  "language_info": {
   "codemirror_mode": {
    "name": "ipython",
    "version": 3
   },
   "file_extension": ".py",
   "mimetype": "text/x-python",
   "name": "python",
   "nbconvert_exporter": "python",
   "pygments_lexer": "ipython3",
   "version": "3.11.8"
  }
 },
 "nbformat": 4,
 "nbformat_minor": 2
}
