{
 "cells": [
  {
   "cell_type": "code",
   "execution_count": null,
   "metadata": {},
   "outputs": [],
   "source": [
    "%cd -q ../..\n",
    "\n",
    "import json\n",
    "import os\n",
    "import re\n",
    "from collections import Counter, defaultdict\n",
    "from itertools import chain\n",
    "from pathlib import Path\n",
    "\n",
    "import jsonlines\n",
    "import pandas as pd\n",
    "from dotenv import load_dotenv\n",
    "\n",
    "from scotus_metalang.diachronic_analysis import cap\n",
    "from scotus_metalang.diachronic_analysis.authors import AUTHOR_MAP\n",
    "\n",
    "pd.set_option(\"display.max_columns\", None)\n",
    "\n",
    "load_dotenv()\n",
    "data_path = os.environ[\"SCOTUS_METALANG_DATA_PATH\"]"
   ]
  },
  {
   "cell_type": "code",
   "execution_count": 134,
   "metadata": {},
   "outputs": [],
   "source": [
    "# Get docket numbers from SCDB\n",
    "scdb = pd.read_csv(f\"{data_path}/scdb/SCDB_2023_01_caseCentered_Docket.csv\", header=0, encoding=\"cp1252\")\n",
    "scdb = scdb[(scdb[\"term\"] >= 1986) & (scdb[\"term\"] <= 2019)]"
   ]
  },
  {
   "cell_type": "code",
   "execution_count": 487,
   "metadata": {},
   "outputs": [
    {
     "data": {
      "text/plain": [
       "3204"
      ]
     },
     "execution_count": 487,
     "metadata": {},
     "output_type": "execute_result"
    }
   ],
   "source": [
    "len(scdb_cases_of_interest)"
   ]
  },
  {
   "cell_type": "code",
   "execution_count": 137,
   "metadata": {},
   "outputs": [],
   "source": [
    "# Cases can be consolidated under the same SCDB caseId, so get first docket for each one\n",
    "scdb_cases_of_interest = scdb[scdb[\"docketId\"].str.endswith(\"01\")]\n",
    "\n",
    "# A case should not have multiple docket ids ending in 01\n",
    "assert len(set(scdb_cases_of_interest[\"caseId\"])) == len(scdb_cases_of_interest)"
   ]
  },
  {
   "cell_type": "markdown",
   "metadata": {},
   "source": [
    "##### Get CAP cases that have explicit SCDB IDs"
   ]
  },
  {
   "cell_type": "code",
   "execution_count": 270,
   "metadata": {},
   "outputs": [
    {
     "name": "stdout",
     "output_type": "stream",
     "text": [
      "2640 CAP files have an SCDB ID.\n"
     ]
    }
   ],
   "source": [
    "def get_scdb_id(citations: list[dict]) -> str:\n",
    "    for citation in citations:\n",
    "        if re.fullmatch(\"SCDB \\d{4}-\\d{3}\", citation[\"cite\"]):\n",
    "            return citation[\"cite\"].lstrip(\"SCDB \")\n",
    "cap_filepaths_with_scdb_id = {}\n",
    "for case_path in Path(f\"{data_path}/bulk_cap/unzipped\").glob(\"*/*/json/*.json\"):\n",
    "    with open(case_path, \"r\") as f:\n",
    "        case_json = json.load(f)\n",
    "        if (scdb_id := get_scdb_id(case_json[\"citations\"])) is not None:\n",
    "            cap_filepaths_with_scdb_id[case_path] = scdb_id\n",
    "print(f\"{len(cap_filepaths_with_scdb_id)} CAP files have an SCDB ID.\")\n",
    "scdb_case_ids = scdb_cases_of_interest[\"caseId\"].tolist()\n",
    "scdb_case_id_to_filepath = {v: k for k, v in cap_filepaths_with_scdb_id.items()}\n"
   ]
  },
  {
   "cell_type": "markdown",
   "metadata": {},
   "source": [
    "##### Work on remaining cases"
   ]
  },
  {
   "cell_type": "code",
   "execution_count": null,
   "metadata": {},
   "outputs": [],
   "source": [
    "remaining_scdb_case_ids = set(scdb_case_ids) - set(scdb_case_id_to_filepath.keys())\n",
    "remaining_docket_nums = scdb[(scdb[\"caseId\"].isin(remaining_scdb_case_ids)) & (scdb[\"docketId\"].str.endswith(\"01\"))][\"docket\"].tolist()\n",
    "remaining_docket_nums"
   ]
  },
  {
   "cell_type": "markdown",
   "metadata": {},
   "source": [
    "Way remaining cases can be found:\n",
    "- Case comes from U.S. Reports and has headmatter with \"argued\" and \"decided\"\n",
    "- There's exactly 1 docket number match for the case\n",
    "- Get docket result with longest `analysis[\"word_count\"]` similarly see if `first_page != last_page`\n",
    "- Get docket result with any opinion written by an author we've seen before\n",
    "- Exclude 0-length opinions\n",
    "\n"
   ]
  },
  {
   "cell_type": "code",
   "execution_count": 274,
   "metadata": {},
   "outputs": [],
   "source": [
    "with open(f\"{data_path}/bulk_cap/docket_to_filepath.json\", \"r\") as f:\n",
    "    docket_to_filepath = json.load(f)"
   ]
  },
  {
   "cell_type": "code",
   "execution_count": 315,
   "metadata": {},
   "outputs": [],
   "source": [
    "multiple_matches = {}\n",
    "for remaining_docket in remaining_docket_nums:\n",
    "    r = re.compile(remaining_docket)\n",
    "    z = len(list(filter(r.search, docket_to_filepath.keys())))\n",
    "    if z > 1:\n",
    "        multiple_matches[remaining_docket] = z\n",
    "len(multiple_matches)"
   ]
  },
  {
   "cell_type": "code",
   "execution_count": 451,
   "metadata": {},
   "outputs": [],
   "source": [
    "def check_one_with_author(candidates: list[dict]) -> list[dict]:\n",
    "    \"\"\"Checks whether only one case's opinion(s) have an author.\n",
    "    \n",
    "    If rest are null author, return the one with an author, otherwise return all\n",
    "    candidates.\n",
    "    \"\"\"\n",
    "    revised_candidates = []\n",
    "    for candidate in candidates:\n",
    "        case = candidate[\"json\"]\n",
    "        if case[\"casebody\"][\"opinions\"][0][\"author\"] is not None:\n",
    "            revised_candidates.append(candidate)\n",
    "    # If only one case has an author, return that case\n",
    "    if len(revised_candidates) == 1:\n",
    "        return revised_candidates\n",
    "    else:\n",
    "        return candidates"
   ]
  },
  {
   "cell_type": "code",
   "execution_count": 469,
   "metadata": {},
   "outputs": [],
   "source": [
    "def check_for_one_much_longer(candidates: list[dict]) -> list[dict]:\n",
    "    \"\"\"Checks whether one candidate case is longer than 300 words.\n",
    "    \n",
    "    If only one candidate meets this criterion, return just that candidate,\n",
    "    otherwise return all candidates.\n",
    "    \"\"\"\n",
    "    revised_candidates = []\n",
    "    for candidate in candidates:\n",
    "        case = candidate[\"json\"]\n",
    "        case_word_count = case[\"analysis\"][\"word_count\"]\n",
    "        if case_word_count > 300:\n",
    "            revised_candidates.append(candidate)\n",
    "    if len(revised_candidates) == 1:\n",
    "        return revised_candidates\n",
    "    else:\n",
    "        return candidates"
   ]
  },
  {
   "cell_type": "code",
   "execution_count": 530,
   "metadata": {},
   "outputs": [],
   "source": [
    "def select_cases_w_opinions(scdb_docket):\n",
    "    r = re.compile(f\"({scdb_docket}$)|({scdb_docket}\\.)|({scdb_docket};)\")\n",
    "    cap_dockets = list(filter(r.search, docket_to_filepath.keys()))\n",
    "    if len(z) == 0:\n",
    "        print(\"none found for \", scdb_docket)\n",
    "        return []\n",
    "    candidates = []\n",
    "    filepaths = []\n",
    "    for docket in cap_dockets:\n",
    "        filepaths.extend(docket_to_filepath[docket])\n",
    "    if len(filepaths) == 1:\n",
    "        with open(filepaths[0], \"r\") as f:\n",
    "            case = json.load(f)\n",
    "        candidates.append({\"filepath\": filepaths[0], \"json\": case})\n",
    "        return candidates\n",
    "    us_filepaths = [p for p in filepaths if \"/us/\" in p]\n",
    "    \n",
    "    if len(us_filepaths) > 0:\n",
    "        other_filepaths = [p for p in filepaths if \"/us/\" not in p]\n",
    "        filepaths = us_filepaths\n",
    "    else:\n",
    "        other_filepaths = []\n",
    "    for filepath in filepaths:\n",
    "        with open(filepath, \"r\") as f:\n",
    "            case = json.load(f)\n",
    "        try:\n",
    "            opinions = case[\"casebody\"][\"opinions\"]\n",
    "        except KeyError:\n",
    "            print(\"no opinions for \", scdb_docket)\n",
    "            continue\n",
    "        if len(opinions) == 1 and opinions[0][\"text\"] == \"\":\n",
    "            continue\n",
    "        \n",
    "        if \"/us/\" in filepath:\n",
    "            if (\"Argued\" not in case[\"casebody\"][\"head_matter\"]) or\\\n",
    "                (\"Decided\" not in case[\"casebody\"][\"head_matter\"]):\n",
    "                continue\n",
    "        candidates.append({\"filepath\": filepath, \"json\": case})\n",
    "    if len(candidates) == 0:\n",
    "        for filepath in other_filepaths:\n",
    "            with open(filepath, \"r\") as f:\n",
    "                case = json.load(f)\n",
    "            try:\n",
    "                opinions = case[\"casebody\"][\"opinions\"]\n",
    "            except KeyError:\n",
    "                print(\"no opinions for \", scdb_docket)\n",
    "                continue\n",
    "            if len(opinions) == 1 and opinions[0][\"text\"] == \"\":\n",
    "                continue\n",
    "            \n",
    "            if \"/us/\" in filepath:\n",
    "                if (\"Argued\" not in case[\"casebody\"][\"head_matter\"]) or\\\n",
    "                    (\"Decided\" not in case[\"casebody\"][\"head_matter\"]):\n",
    "                    continue\n",
    "            candidates.append({\"filepath\": filepath, \"json\": case})\n",
    "    candidates = check_one_with_author(candidates)\n",
    "    if len(candidates) == 1:\n",
    "        return candidates\n",
    "    else:\n",
    "        candidates = check_for_one_much_longer(candidates)\n",
    "    return candidates"
   ]
  },
  {
   "cell_type": "code",
   "execution_count": 542,
   "metadata": {},
   "outputs": [
    {
     "data": {
      "text/plain": [
       "['No. 137, Orig.']"
      ]
     },
     "execution_count": 542,
     "metadata": {},
     "output_type": "execute_result"
    }
   ],
   "source": [
    "scdb_docket = \"No. 137, Orig.\"\n",
    "r = re.compile(f\"({scdb_docket}$)|({scdb_docket}\\.)|({scdb_docket};)\")\n",
    "cap_dockets = list(filter(r.search, docket_to_filepath.keys()))\n",
    "cap_dockets"
   ]
  },
  {
   "cell_type": "code",
   "execution_count": 523,
   "metadata": {},
   "outputs": [
    {
     "data": {
      "text/plain": [
       "['/home/mkranzlein/michael/data/scotus-metalang/bulk_cap/unzipped/us/566/json/0920-02.json']"
      ]
     },
     "execution_count": 523,
     "metadata": {},
     "output_type": "execute_result"
    }
   ],
   "source": [
    "docket_to_filepath[\"No. 11-796; No. 11-889\"]"
   ]
  },
  {
   "cell_type": "code",
   "execution_count": 510,
   "metadata": {},
   "outputs": [
    {
     "data": {
      "text/plain": [
       "['/home/mkranzlein/michael/data/scotus-metalang/bulk_cap/unzipped/sct/135/json/0346-01.json']"
      ]
     },
     "execution_count": 510,
     "metadata": {},
     "output_type": "execute_result"
    }
   ],
   "source": [
    "docket_to_filepath[\"No. 13-1318.\"]"
   ]
  },
  {
   "cell_type": "code",
   "execution_count": 531,
   "metadata": {},
   "outputs": [],
   "source": [
    "results = {x: select_cases_w_opinions(x) for x in remaining_docket_nums}"
   ]
  },
  {
   "cell_type": "code",
   "execution_count": 496,
   "metadata": {},
   "outputs": [
    {
     "data": {
      "text/plain": [
       "{'id': 12705271,\n",
       " 'name': 'TEVA PHARMACEUTICALS USA, INC., et al., petitioners, v. SANDOZ INC., et al.',\n",
       " 'name_abbreviation': 'Teva Pharm. United States, Inc. v. Sandoz Inc.',\n",
       " 'decision_date': '2014-03-31',\n",
       " 'docket_number': 'No. 13–854.',\n",
       " 'first_page': '1033',\n",
       " 'last_page': '1033',\n",
       " 'citations': [{'type': 'official', 'cite': '572 U.S. 1033'},\n",
       "  {'type': 'parallel', 'cite': '188 L. Ed. 2d 592'},\n",
       "  {'type': 'parallel', 'cite': '134 S. Ct. 1761'}],\n",
       " 'court': {'name_abbreviation': 'U.S.',\n",
       "  'id': 9009,\n",
       "  'name': 'Supreme Court of the United States'},\n",
       " 'jurisdiction': {'id': 39, 'name_long': 'United States', 'name': 'U.S.'},\n",
       " 'cites_to': [],\n",
       " 'analysis': {'cardinality': 30,\n",
       "  'char_count': 243,\n",
       "  'sha256': 'b2a99cff53f570bea984d7a71aedf77e57471ea269d8237526ceeb818e156834',\n",
       "  'simhash': '1:d32d324ead8016cd',\n",
       "  'word_count': 40},\n",
       " 'last_updated': '2021-08-27T20:44:00.426858+00:00',\n",
       " 'provenance': {'date_added': '2021-08-27',\n",
       "  'source': 'Fastcase',\n",
       "  'batch': '2021'},\n",
       " 'casebody': {'judges': [],\n",
       "  'parties': ['TEVA PHARMACEUTICALS USA, INC., et al., petitioners,\\nv.\\nSANDOZ INC., et al.'],\n",
       "  'opinions': [{'text': '', 'type': 'majority', 'author': None}],\n",
       "  'attorneys': ['Petition for writ of certiorari to the United States Court of Appeals for the Federal Circuit granted.'],\n",
       "  'corrections': '',\n",
       "  'head_matter': 'TEVA PHARMACEUTICALS USA, INC., et al., petitioners,\\nv.\\nSANDOZ INC., et al.\\nNo. 13-854.\\nSupreme Court of the United States\\nMarch 31, 2014.\\nPetition for writ of certiorari to the United States Court of Appeals for the Federal Circuit granted.'},\n",
       " 'file_name': '1033-08',\n",
       " 'first_page_order': 1033,\n",
       " 'last_page_order': 1033}"
      ]
     },
     "execution_count": 496,
     "metadata": {},
     "output_type": "execute_result"
    }
   ],
   "source": [
    "filepath = '/home/mkranzlein/michael/data/scotus-metalang/bulk_cap/unzipped/us/572/json/1033-08.json'\n",
    "with open(filepath, \"r\") as f:\n",
    "    a = json.load(f)\n",
    "(\"Argued\" in a[\"casebody\"][\"head_matter\"]) or (\"Decided\" not in a[\"casebody\"][\"head_matter\"])\n",
    "a"
   ]
  },
  {
   "cell_type": "code",
   "execution_count": 540,
   "metadata": {},
   "outputs": [
    {
     "data": {
      "text/plain": [
       "['126, ORIG.', 'No. 137, Orig.', 'No. 142, Orig.', '137, Orig.']"
      ]
     },
     "execution_count": 540,
     "metadata": {},
     "output_type": "execute_result"
    }
   ],
   "source": [
    "[x for x in remaining_docket_nums if \"orig\" in x.lower()]"
   ]
  },
  {
   "cell_type": "code",
   "execution_count": 535,
   "metadata": {},
   "outputs": [
    {
     "data": {
      "text/plain": [
       "{'A-69': [],\n",
       " '06-1265': [],\n",
       " '08-1065': [],\n",
       " '12-382': [],\n",
       " '11-9953': [],\n",
       " '12-1084': [],\n",
       " '12-1200': [],\n",
       " '12-1146': [],\n",
       " '13-935': [],\n",
       " '14-103': [],\n",
       " '13-1421': [],\n",
       " '14-400': [],\n",
       " '14-116': [],\n",
       " '13–1318': [],\n",
       " '14–95': [],\n",
       " '15-108': [],\n",
       " '15-145': [],\n",
       " '15-649': [],\n",
       " '16-348': [],\n",
       " '15-1509': [],\n",
       " '16-784': [],\n",
       " '22O141': []}"
      ]
     },
     "execution_count": 535,
     "metadata": {},
     "output_type": "execute_result"
    }
   ],
   "source": [
    "{k: [x[\"filepath\"] for x in v] for k, v in results.items() if len(v) == 0}"
   ]
  },
  {
   "cell_type": "code",
   "execution_count": 536,
   "metadata": {},
   "outputs": [
    {
     "data": {
      "text/plain": [
       "541"
      ]
     },
     "execution_count": 536,
     "metadata": {},
     "output_type": "execute_result"
    }
   ],
   "source": [
    "sum([1 for x in results.values() if len(x) == 1])"
   ]
  },
  {
   "cell_type": "code",
   "execution_count": null,
   "metadata": {},
   "outputs": [],
   "source": []
  },
  {
   "cell_type": "code",
   "execution_count": 482,
   "metadata": {},
   "outputs": [
    {
     "data": {
      "text/plain": [
       "2640"
      ]
     },
     "execution_count": 482,
     "metadata": {},
     "output_type": "execute_result"
    }
   ],
   "source": [
    "len(cap_filepaths_with_scdb_id)"
   ]
  },
  {
   "cell_type": "code",
   "execution_count": 483,
   "metadata": {},
   "outputs": [
    {
     "data": {
      "text/plain": [
       "3125"
      ]
     },
     "execution_count": 483,
     "metadata": {},
     "output_type": "execute_result"
    }
   ],
   "source": [
    "485 + 2640"
   ]
  }
 ],
 "metadata": {
  "kernelspec": {
   "display_name": "scotus-metalang",
   "language": "python",
   "name": "python3"
  },
  "language_info": {
   "codemirror_mode": {
    "name": "ipython",
    "version": 3
   },
   "file_extension": ".py",
   "mimetype": "text/x-python",
   "name": "python",
   "nbconvert_exporter": "python",
   "pygments_lexer": "ipython3",
   "version": "3.11.8"
  }
 },
 "nbformat": 4,
 "nbformat_minor": 2
}
