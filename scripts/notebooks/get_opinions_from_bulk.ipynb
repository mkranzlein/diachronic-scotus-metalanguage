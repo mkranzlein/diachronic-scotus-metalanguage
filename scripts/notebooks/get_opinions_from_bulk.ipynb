{
 "cells": [
  {
   "cell_type": "code",
   "execution_count": 1,
   "metadata": {},
   "outputs": [],
   "source": [
    "%cd -q ../.."
   ]
  },
  {
   "cell_type": "code",
   "execution_count": 2,
   "metadata": {},
   "outputs": [],
   "source": [
    "import json\n",
    "import os\n",
    "import re\n",
    "from collections import Counter\n",
    "from pathlib import Path\n",
    "\n",
    "import pandas as pd\n",
    "from dotenv import load_dotenv\n",
    "\n",
    "load_dotenv()\n",
    "data_path = os.environ[\"SCOTUS_METALANG_DATA_PATH\"]"
   ]
  },
  {
   "cell_type": "code",
   "execution_count": 3,
   "metadata": {},
   "outputs": [
    {
     "name": "stdout",
     "output_type": "stream",
     "text": [
      "3144 cases to retrieve\n"
     ]
    }
   ],
   "source": [
    "# Get docket numbers from SCDB\n",
    "scdb = pd.read_csv(f\"{data_path}/scdb/SCDB_2023_01_caseCentered_Docket.csv\", header=0, encoding=\"cp1252\")\n",
    "scdb = scdb[(scdb[\"term\"] >= 1986) & (scdb[\"term\"] <= 2018)]\n",
    "\n",
    "# Cases can be consolidated under the same SCDB caseId, so get first docket for each one\n",
    "scdb_cases_of_interest = scdb[scdb[\"docketId\"].str.endswith(\"01\")]\n",
    "\n",
    "# A case should not have multiple docket ids ending in 01\n",
    "assert len(set(scdb_cases_of_interest[\"caseId\"])) == len(scdb_cases_of_interest)\n",
    "\n",
    "print(f\"{len(scdb_cases_of_interest)} cases to retrieve\")"
   ]
  },
  {
   "cell_type": "markdown",
   "metadata": {},
   "source": [
    "##### Get CAP cases that have explicit SCDB IDs"
   ]
  },
  {
   "cell_type": "code",
   "execution_count": 4,
   "metadata": {},
   "outputs": [
    {
     "name": "stdout",
     "output_type": "stream",
     "text": [
      "2640 CAP files have an SCDB ID\n"
     ]
    }
   ],
   "source": [
    "def get_scdb_id(citations: list[dict]) -> str:\n",
    "    \"\"\"Gets SCDB ID from a CAP case's citations field if available.\n",
    "\n",
    "    'citations' field contains entries like: {\"type\": \"official\", \"cite\": \"486 U.S. 1\"}\n",
    "\n",
    "    Look for entry whose 'cite' is like 'SCDB 1234-123'\n",
    "    \"\"\"\n",
    "    for citation in citations:\n",
    "        if re.fullmatch(r\"SCDB \\d{4}-\\d{3}\", citation[\"cite\"]):\n",
    "            return citation[\"cite\"].lstrip(\"SCDB \")\n",
    "\n",
    "cap_filepaths_with_scdb_id = {}\n",
    "for case_path in Path(f\"{data_path}/bulk_cap/unzipped\").glob(\"*/*/json/*.json\"):\n",
    "    with open(case_path, \"r\") as f:\n",
    "        case_json = json.load(f)\n",
    "        if (scdb_id := get_scdb_id(case_json[\"citations\"])) is not None:\n",
    "            cap_filepaths_with_scdb_id[case_path] = scdb_id\n",
    "print(f\"{len(cap_filepaths_with_scdb_id)} CAP files have an SCDB ID\")\n",
    "scdb_case_ids = scdb_cases_of_interest[\"caseId\"].tolist()\n",
    "scdb_case_id_to_filepath = {v: k for k, v in cap_filepaths_with_scdb_id.items()}\n"
   ]
  },
  {
   "cell_type": "markdown",
   "metadata": {},
   "source": [
    "##### Get CAP cases that don't have an SCDB ID"
   ]
  },
  {
   "cell_type": "code",
   "execution_count": 5,
   "metadata": {},
   "outputs": [
    {
     "name": "stdout",
     "output_type": "stream",
     "text": [
      "504 cases with no SCDB ID\n"
     ]
    }
   ],
   "source": [
    "remaining_scdb_case_ids = set(scdb_case_ids) - set(scdb_case_id_to_filepath.keys())\n",
    "remaining_cases = scdb_cases_of_interest[scdb_cases_of_interest[\"caseId\"].isin(remaining_scdb_case_ids)]\n",
    "remaining_docket_nums = remaining_cases[\"docket\"].tolist()\n",
    "print(f\"{len(remaining_docket_nums)} cases with no SCDB ID\")"
   ]
  },
  {
   "cell_type": "code",
   "execution_count": 6,
   "metadata": {},
   "outputs": [],
   "source": [
    "with open(f\"{data_path}/bulk_cap/docket_to_filepath.json\", \"r\") as f:\n",
    "    docket_to_filepath = json.load(f)"
   ]
  },
  {
   "cell_type": "code",
   "execution_count": 7,
   "metadata": {},
   "outputs": [],
   "source": [
    "def filter_cases_with_authors(filepath_to_json: dict) -> list[str]:\n",
    "    \"\"\"Returns filepaths of cases with an author.\"\"\"\n",
    "    filtered_filepaths = []\n",
    "    for filepath, case_json in filepath_to_json.items():\n",
    "        if case_json[\"casebody\"][\"opinions\"][0][\"author\"] is not None:\n",
    "            filtered_filepaths.append(filepath)\n",
    "    return filtered_filepaths\n",
    "\n",
    "def filter_by_word_count(filepath_to_json: dict, min_words=300) -> list[str]:\n",
    "    \"\"\"Returns filepaths where case word count is above a threshold.\"\"\"\n",
    "    filtered_filepaths = []\n",
    "    for filepath, case_json in filepath_to_json.items():\n",
    "        case_word_count = case_json[\"analysis\"][\"word_count\"]\n",
    "        if case_word_count > min_words:\n",
    "            filtered_filepaths.append(filepath)\n",
    "    return filtered_filepaths\n",
    "\n",
    "def filter_candidate_filepaths(candidate_filepaths: list[str]) -> list[str]:\n",
    "    if len(candidate_filepaths) == 1:\n",
    "        return [candidate_filepaths]\n",
    "\n",
    "    filtered_filepath_to_json = {}\n",
    "    for filepath in candidate_filepaths:\n",
    "        with open(filepath, \"r\") as f:\n",
    "            case_json = json.load(f)\n",
    "        try:\n",
    "            opinions = case_json[\"casebody\"][\"opinions\"]\n",
    "        except KeyError:\n",
    "            print(\"no opinions for \", filepath)\n",
    "            continue\n",
    "        if len(opinions) == 1 and opinions[0][\"text\"] == \"\":\n",
    "            continue\n",
    "\n",
    "        if \"/us/\" in filepath:\n",
    "            if (\"Argued\" not in case_json[\"casebody\"][\"head_matter\"]) or\\\n",
    "                (\"Decided\" not in case_json[\"casebody\"][\"head_matter\"]):\n",
    "                continue\n",
    "        filtered_filepath_to_json[filepath] = case_json\n",
    "\n",
    "    if len(filtered_filepath_to_json) > 1:\n",
    "        candidates = filter_cases_with_authors(filtered_filepath_to_json)\n",
    "        if len(candidates) == 1:\n",
    "            return candidates\n",
    "        candidates = filter_by_word_count(filtered_filepath_to_json, min_words=300)\n",
    "        if len(candidates) == 1:\n",
    "            return candidates\n",
    "\n",
    "    return list(filtered_filepath_to_json.keys())"
   ]
  },
  {
   "cell_type": "code",
   "execution_count": 8,
   "metadata": {},
   "outputs": [],
   "source": [
    "def filter_cap_cases_by_docket(scdb_docket: str) -> list[str]:\n",
    "    # The docket field in a CAP case can have multiple docket numbers separated by semi-colons\n",
    "    # Further, multiple cap cases can have the same docket field\n",
    "    # Find all matching docket fields and then get all matching filepaths\n",
    "    r = re.compile(fr\"({scdb_docket}$)|({scdb_docket}\\.)|({scdb_docket};)\")\n",
    "    cap_dockets = list(filter(r.search, docket_to_filepath.keys()))\n",
    "    candidate_filepaths = []\n",
    "    for docket in cap_dockets:\n",
    "        candidate_filepaths.extend(docket_to_filepath[docket])\n",
    "\n",
    "    if len(candidate_filepaths) == 1:\n",
    "        return candidate_filepaths\n",
    "\n",
    "    us_filepaths = [fp for fp in candidate_filepaths if \"/us/\" in fp]\n",
    "    sct_filepaths = [fp for fp in candidate_filepaths if \"/sct/\" in fp]\n",
    "    assert (len(us_filepaths) + len(sct_filepaths)) == len(candidate_filepaths)\n",
    "\n",
    "    filtered_candidates = filter_candidate_filepaths(us_filepaths)\n",
    "    if len(filtered_candidates) == 0:\n",
    "        filtered_candidates = filter_candidate_filepaths(sct_filepaths)\n",
    "\n",
    "    return filtered_candidates\n"
   ]
  },
  {
   "cell_type": "code",
   "execution_count": 9,
   "metadata": {},
   "outputs": [],
   "source": [
    "zero_or_many_matches = {}\n",
    "for scdb_case_id, docket in zip(remaining_cases.caseId, remaining_cases.docket):\n",
    "    candidate_filepaths = filter_cap_cases_by_docket(docket)\n",
    "    if len(candidate_filepaths) == 1:\n",
    "        scdb_case_id_to_filepath[scdb_case_id] = candidate_filepaths[0]\n",
    "    else:\n",
    "        zero_or_many_matches[scdb_case_id] = candidate_filepaths"
   ]
  },
  {
   "cell_type": "code",
   "execution_count": 10,
   "metadata": {},
   "outputs": [
    {
     "data": {
      "text/plain": [
       "3122"
      ]
     },
     "execution_count": 10,
     "metadata": {},
     "output_type": "execute_result"
    }
   ],
   "source": [
    "len(scdb_case_id_to_filepath)"
   ]
  },
  {
   "cell_type": "code",
   "execution_count": 11,
   "metadata": {},
   "outputs": [
    {
     "data": {
      "text/plain": [
       "3144"
      ]
     },
     "execution_count": 11,
     "metadata": {},
     "output_type": "execute_result"
    }
   ],
   "source": [
    "len(scdb_cases_of_interest)"
   ]
  },
  {
   "cell_type": "code",
   "execution_count": 12,
   "metadata": {},
   "outputs": [],
   "source": [
    "docket_to_filter_results = {d: filter_cap_cases_by_docket(d) for d in remaining_docket_nums}"
   ]
  },
  {
   "cell_type": "code",
   "execution_count": 13,
   "metadata": {},
   "outputs": [
    {
     "name": "stdout",
     "output_type": "stream",
     "text": [
      "21 SCDB Cases with 0 CAP match(es)\n",
      "482 SCDB Cases with 1 CAP match(es)\n",
      "1 SCDB Cases with 4 CAP match(es)\n"
     ]
    }
   ],
   "source": [
    "num_matches = Counter(len(v) for k, v in docket_to_filter_results.items())\n",
    "for k, v in sorted(num_matches.items()):\n",
    "    print(f\"{v} SCDB Cases with {k} CAP match(es)\")"
   ]
  },
  {
   "cell_type": "code",
   "execution_count": 14,
   "metadata": {},
   "outputs": [],
   "source": [
    "for k, v in scdb_case_id_to_filepath.items():\n",
    "    scdb_case_id_to_filepath[k] = str(v)"
   ]
  },
  {
   "cell_type": "code",
   "execution_count": 15,
   "metadata": {},
   "outputs": [],
   "source": [
    "with open(f\"{data_path}/bulk_cap/scdb_case_id_to_filepath.json\", \"w\") as f:\n",
    "    json.dump(scdb_case_id_to_filepath, f)"
   ]
  }
 ],
 "metadata": {
  "kernelspec": {
   "display_name": "scotus-metalang",
   "language": "python",
   "name": "python3"
  },
  "language_info": {
   "codemirror_mode": {
    "name": "ipython",
    "version": 3
   },
   "file_extension": ".py",
   "mimetype": "text/x-python",
   "name": "python",
   "nbconvert_exporter": "python",
   "pygments_lexer": "ipython3",
   "version": "3.11.8"
  }
 },
 "nbformat": 4,
 "nbformat_minor": 2
}
