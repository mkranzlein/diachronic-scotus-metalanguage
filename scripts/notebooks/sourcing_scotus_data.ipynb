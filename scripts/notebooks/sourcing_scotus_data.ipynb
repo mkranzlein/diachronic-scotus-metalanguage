{
 "cells": [
  {
   "cell_type": "markdown",
   "metadata": {},
   "source": [
    "**Goal**: Get one txt file for each opinion for all Supreme Court cases from 1991 to 2019.\n",
    "\n",
    "Challenges:\n",
    "- **Which cases?**\n",
    "    - There are a ton of cases in CAP where the only data is one sentence saying cert is denied.\n",
    "    - There are some SCDB maps to CAP, but it seems like there are more cases than there should be in each term.\n",
    "- **Splitting opinions**: some cases have data split by opinion, others don't?\n",
    "\n",
    "**Resources**\n",
    "\n",
    "There seem to be two maps from SCDB to CAP:\n",
    "1. [Connecting U.S. Supreme Court Case Information and Opinion Authorship (SCDB) to Full Case Text Data (CAP), 1791-2011](https://zenodo.org/records/4344917).\n",
    "1. CAP's own [matchup file](https://case.law/download/scdb/scdb_matchup_2020-01-16.csv) on this [page](https://case.law/download/scdb/).\n",
    "\n",
    "The maps from SCDB end in 2011. From 2007 onward, the SCOTUS website has documents with docket numbers for cases granted argument. These are the **Granted \\& Noted** [lists](https://www.supremecourt.gov/orders/grantednotedlists.aspx)."
   ]
  },
  {
   "cell_type": "markdown",
   "metadata": {},
   "source": [
    "From  `scdb-cap-opinion-authorship` file, `3644508` looks like a good example of multiple opinions:\n",
    "\n",
    "```\n",
    "2009-091\t3644508\t561 U.S. 742\tMcDonald v. City of Chicago\t2\tAScalia\t105\n",
    "2009-091\t3644508\t561 U.S. 742\tMcDonald v. City of Chicago\t3\tCThomas\t108\n",
    "2009-091\t3644508\t561 U.S. 742\tMcDonald v. City of Chicago\t4\tJPStevens\t103\n",
    "2009-091\t3644508\t561 U.S. 742\tMcDonald v. City of Chicago\t5\tSGBreyer\t110\n",
    "2009-091\t3644508\t561 U.S. 742\tMcDonald v. City of Chicago\t1\tSAAlito\t112```"
   ]
  },
  {
   "cell_type": "code",
   "execution_count": null,
   "metadata": {},
   "outputs": [],
   "source": [
    "import requests\n",
    "\n",
    "from scotus_metalang import cap"
   ]
  },
  {
   "cell_type": "code",
   "execution_count": null,
   "metadata": {},
   "outputs": [],
   "source": [
    "cases = []\n",
    "docket_number = \"\"\n",
    "api_response = cap.cases_by_docket_number(docket_number)\n",
    "case_id = cap.id_of_longest_casebody(api_response)\n",
    "case_json = cap.case_json_by_id(case_id)\n",
    "cases.append(case_json)"
   ]
  },
  {
   "cell_type": "code",
   "execution_count": null,
   "metadata": {},
   "outputs": [],
   "source": [
    "# Ginsburg only but actually there's also a roberts opinion\n",
    "x = cap.case_json_by_id(3653799)"
   ]
  }
 ],
 "metadata": {
  "kernelspec": {
   "display_name": "hipool",
   "language": "python",
   "name": "python3"
  },
  "language_info": {
   "codemirror_mode": {
    "name": "ipython",
    "version": 3
   },
   "file_extension": ".py",
   "mimetype": "text/x-python",
   "name": "python",
   "nbconvert_exporter": "python",
   "pygments_lexer": "ipython3",
   "version": "3.9.13"
  }
 },
 "nbformat": 4,
 "nbformat_minor": 2
}
