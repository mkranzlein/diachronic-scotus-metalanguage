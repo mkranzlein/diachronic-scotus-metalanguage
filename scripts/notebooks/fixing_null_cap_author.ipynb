{
 "cells": [
  {
   "cell_type": "code",
   "execution_count": 1,
   "metadata": {},
   "outputs": [],
   "source": [
    "%cd -q ../.."
   ]
  },
  {
   "cell_type": "code",
   "execution_count": null,
   "metadata": {},
   "outputs": [],
   "source": [
    "import asyncio\n",
    "import json\n",
    "import os\n",
    "import sqlite3\n",
    "from pathlib import Path\n",
    "from dotenv import load_dotenv\n",
    "\n",
    "import aiohttp\n",
    "\n",
    "from scotus_metalang.diachronic_analysis import cap"
   ]
  },
  {
   "cell_type": "code",
   "execution_count": 40,
   "metadata": {},
   "outputs": [
    {
     "data": {
      "text/plain": [
       "68"
      ]
     },
     "execution_count": 40,
     "metadata": {},
     "output_type": "execute_result"
    }
   ],
   "source": [
    "# Retrieve all null author opinions from API based on opinions table\n",
    "connection = sqlite3.connect(\"api_log.db\")\n",
    "\n",
    "with connection:\n",
    "    rows = connection.execute(\"\"\"--sql\n",
    "                              SELECT cases.selected_case_id, cases.docket_number\n",
    "                              FROM cases\n",
    "                              INNER JOIN opinions ON cases.docket_number = opinions.docket_number\n",
    "                              WHERE opinions.cap_author IS NULL\n",
    "                              \"\"\").fetchall()\n",
    "case_ids_with_null_author_op = {row[0]: row[1] for row in rows}\n",
    "len(case_ids_with_null_author_op)"
   ]
  },
  {
   "cell_type": "code",
   "execution_count": 21,
   "metadata": {},
   "outputs": [],
   "source": [
    "load_dotenv()\n",
    "CAP_TOKEN = os.environ[\"CAP_TOKEN\"]\n"
   ]
  },
  {
   "cell_type": "code",
   "execution_count": 46,
   "metadata": {},
   "outputs": [],
   "source": [
    "async def save_null_author_opinions(case_id, docket_number: str, session):\n",
    "    case_json = await cap.case_json_by_id(case_id, session)\n",
    "    status = case_json[\"casebody\"][\"status\"]\n",
    "\n",
    "    if status != \"ok\":\n",
    "        # E.g. 'error_limit_exceeded'\n",
    "        raise RuntimeError(f\"Bad API response status: {status}\")\n",
    "\n",
    "    if not cap.opinions_key_exists(case_json):\n",
    "        print(f\"opinion key doesn't exist for: {docket_number}\")\n",
    "\n",
    "    for i, opinion in enumerate(case_json[\"casebody\"][\"data\"][\"opinions\"]):\n",
    "        if opinion[\"author\"] is not None:\n",
    "            continue\n",
    "\n",
    "        save_dir = Path(f\"data/cap/null_authors\")\n",
    "        Path.mkdir(save_dir, parents=True, exist_ok=True)\n",
    "\n",
    "        simplified_json = {\"cap_id\": case_id, \"docket_number\": docket_number, \"decision_date\": case_json[\"decision_date\"],\n",
    "                       \"author\": None, \"opinion_type\": opinion[\"type\"].lower(), \"text\": opinion[\"text\"]}\n",
    "\n",
    "        with open(Path(save_dir, f\"{docket_number}_{i}.json\"), \"w\") as f:\n",
    "            json.dump(simplified_json, f)\n"
   ]
  },
  {
   "cell_type": "code",
   "execution_count": 45,
   "metadata": {},
   "outputs": [],
   "source": [
    "async def main():\n",
    "    connector = aiohttp.TCPConnector(limit_per_host=10)\n",
    "    headers={\"Authorization\": f\"Token {CAP_TOKEN}\"}\n",
    "    async with aiohttp.ClientSession(connector=connector, headers=headers) as session:\n",
    "        for i, (case_id, docket_number) in enumerate(case_ids_with_null_author_op.items()):\n",
    "            result = await save_null_author_opinions(case_id, docket_number, session)\n",
    "            print(\"done with \", i)"
   ]
  },
  {
   "cell_type": "code",
   "execution_count": null,
   "metadata": {},
   "outputs": [],
   "source": [
    "x = await main()\n",
    "\n",
    "x = asyncio.create_task(main())\n",
    "await x\n",
    "y = x.result()"
   ]
  },
  {
   "cell_type": "code",
   "execution_count": 47,
   "metadata": {},
   "outputs": [
    {
     "name": "stdout",
     "output_type": "stream",
     "text": [
      "done with  0\n",
      "done with  1\n",
      "done with  2\n",
      "done with  3\n",
      "done with  4\n",
      "done with  5\n",
      "done with  6\n",
      "done with  7\n",
      "done with  8\n",
      "done with  9\n",
      "done with  10\n",
      "done with  11\n",
      "done with  12\n",
      "done with  13\n",
      "done with  14\n",
      "done with  15\n",
      "done with  16\n",
      "done with  17\n",
      "done with  18\n",
      "done with  19\n",
      "done with  20\n",
      "done with  21\n",
      "done with  22\n",
      "done with  23\n",
      "done with  24\n",
      "done with  25\n",
      "done with  26\n",
      "done with  27\n",
      "done with  28\n",
      "done with  29\n",
      "done with  30\n",
      "done with  31\n",
      "done with  32\n",
      "done with  33\n",
      "done with  34\n",
      "done with  35\n",
      "done with  36\n",
      "done with  37\n",
      "done with  38\n",
      "done with  39\n",
      "done with  40\n",
      "done with  41\n",
      "done with  42\n",
      "done with  43\n",
      "done with  44\n",
      "done with  45\n",
      "done with  46\n",
      "done with  47\n",
      "done with  48\n",
      "done with  49\n",
      "done with  50\n",
      "done with  51\n",
      "done with  52\n",
      "done with  53\n",
      "done with  54\n",
      "done with  55\n",
      "done with  56\n",
      "done with  57\n",
      "done with  58\n",
      "done with  59\n",
      "done with  60\n",
      "done with  61\n",
      "done with  62\n",
      "done with  63\n",
      "done with  64\n",
      "done with  65\n",
      "done with  66\n",
      "done with  67\n"
     ]
    }
   ],
   "source": [
    "await main()"
   ]
  },
  {
   "cell_type": "code",
   "execution_count": 48,
   "metadata": {},
   "outputs": [],
   "source": [
    "import csv"
   ]
  },
  {
   "cell_type": "code",
   "execution_count": 57,
   "metadata": {},
   "outputs": [],
   "source": [
    "with open(\"data/cap/null_authors/fix.csv\", \"w\") as f:\n",
    "    writer = csv.writer(f)\n",
    "    writer.writerow([\"docket_number\", \"cap_id\", \"first_100_chars\"])\n",
    "    for filepath in Path(\"data/cap/null_authors\").glob(\"*.json\"):\n",
    "        with open(filepath, \"r\") as g:\n",
    "            opinion = json.load(g)\n",
    "        writer.writerow([opinion[\"docket_number\"], opinion[\"cap_id\"], opinion[\"text\"][:100].replace(\"\\n\", \"\\\\\")])"
   ]
  },
  {
   "cell_type": "code",
   "execution_count": null,
   "metadata": {},
   "outputs": [],
   "source": [
    "load_dotenv()\n",
    "CAP_TOKEN = os.environ[\"CAP_TOKEN\"]\n",
    "async def main():\n",
    "    connector = aiohttp.TCPConnector(limit_per_host=10)\n",
    "    headers={\"Authorization\": f\"Token {CAP_TOKEN}\"}\n",
    "    async with aiohttp.ClientSession(connector=connector, headers=headers) as session:\n",
    "        api_response = await cap.cases_by_docket_number(docket_number, session)\n",
    "        case_id = cap.id_of_longest_casebody(api_response)\n",
    "        case_json = await cap.case_json_by_id(case_id, session)\n",
    "# Case not found\n",
    "if api_response[\"count\"] == 0:\n",
    "    case_params = {\"docket_number\": docket_number,\n",
    "                    \"case_status\": \"not_found\",\n",
    "                    \"selected_case_id\": None,\n",
    "                    \"decision_date\": None}\n",
    "    return case_params, []\n",
    "\n",
    "\n",
    "\n",
    "if (cap_author := opinion[\"author\"]) is None:\n",
    "        return opinion_params"
   ]
  },
  {
   "cell_type": "code",
   "execution_count": null,
   "metadata": {},
   "outputs": [],
   "source": [
    "simplified_json = {\"cap_id\": case_id, \"docket_number\": docket_number, \"decision_date\": case_json[\"decision_date\"],\n",
    "                       \"author\": None, \"opinion_type\": opinion[\"type\"].lower(), \"text\": opinion[\"text\"]}"
   ]
  },
  {
   "cell_type": "code",
   "execution_count": null,
   "metadata": {},
   "outputs": [],
   "source": [
    "# Save all null_author opinions to null_author folder\n",
    "\n",
    "# Create CSV with [docket_number, author, text[:100]]\n",
    "\n",
    "# Open CSV and add authors where applicable, otherwise n/a\n",
    "\n",
    "# Read CSV and move/rename opinions that are not actually null into appropriate author folders"
   ]
  }
 ],
 "metadata": {
  "kernelspec": {
   "display_name": "scotus-metalang",
   "language": "python",
   "name": "python3"
  },
  "language_info": {
   "codemirror_mode": {
    "name": "ipython",
    "version": 3
   },
   "file_extension": ".py",
   "mimetype": "text/x-python",
   "name": "python",
   "nbconvert_exporter": "python",
   "pygments_lexer": "ipython3",
   "version": "3.11.8"
  }
 },
 "nbformat": 4,
 "nbformat_minor": 2
}
