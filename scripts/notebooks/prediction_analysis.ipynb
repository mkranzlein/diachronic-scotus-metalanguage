{
 "cells": [
  {
   "cell_type": "code",
   "execution_count": 1,
   "metadata": {},
   "outputs": [],
   "source": [
    "%cd -q ../..\n",
    "\n",
    "%load_ext autoreload\n",
    "%autoreload 2"
   ]
  },
  {
   "cell_type": "code",
   "execution_count": 2,
   "metadata": {},
   "outputs": [
    {
     "data": {
      "text/plain": [
       "<contextlib.ExitStack at 0x7f3acc1a2510>"
      ]
     },
     "execution_count": 2,
     "metadata": {},
     "output_type": "execute_result"
    }
   ],
   "source": [
    "import os\n",
    "from pathlib import Path\n",
    "\n",
    "from dotenv import load_dotenv\n",
    "from matplotlib import pyplot as plt\n",
    "\n",
    "\n",
    "from scotus_metalang.diachronic_analysis import authors, prediction_graphing\n",
    "from scotus_metalang.diachronic_analysis.graphing import save_and_show\n",
    "\n",
    "load_dotenv()\n",
    "data_path = os.environ[\"SCOTUS_METALANG_DATA_PATH\"]\n",
    "model_name = \"binary_token_model_bert_large_8_epochs\"\n",
    "\n",
    "plt.ioff()"
   ]
  },
  {
   "cell_type": "markdown",
   "metadata": {},
   "source": [
    "### Read prediction data\n"
   ]
  },
  {
   "cell_type": "code",
   "execution_count": 3,
   "metadata": {},
   "outputs": [
    {
     "data": {
      "text/html": [
       "<div>\n",
       "<style scoped>\n",
       "    .dataframe tbody tr th:only-of-type {\n",
       "        vertical-align: middle;\n",
       "    }\n",
       "\n",
       "    .dataframe tbody tr th {\n",
       "        vertical-align: top;\n",
       "    }\n",
       "\n",
       "    .dataframe thead th {\n",
       "        text-align: right;\n",
       "    }\n",
       "</style>\n",
       "<table border=\"1\" class=\"dataframe\">\n",
       "  <thead>\n",
       "    <tr style=\"text-align: right;\">\n",
       "      <th></th>\n",
       "      <th>docket_number</th>\n",
       "      <th>author</th>\n",
       "      <th>opinion_type</th>\n",
       "      <th>term</th>\n",
       "      <th>tokens</th>\n",
       "      <th>ft</th>\n",
       "      <th>mc</th>\n",
       "      <th>dq</th>\n",
       "      <th>les</th>\n",
       "    </tr>\n",
       "  </thead>\n",
       "  <tbody>\n",
       "    <tr>\n",
       "      <th>0</th>\n",
       "      <td>86-1088</td>\n",
       "      <td>brennan</td>\n",
       "      <td>concurrence</td>\n",
       "      <td>1988</td>\n",
       "      <td>37</td>\n",
       "      <td>0</td>\n",
       "      <td>0</td>\n",
       "      <td>0</td>\n",
       "      <td>3</td>\n",
       "    </tr>\n",
       "    <tr>\n",
       "      <th>1</th>\n",
       "      <td>86-39</td>\n",
       "      <td>brennan</td>\n",
       "      <td>majority</td>\n",
       "      <td>1986</td>\n",
       "      <td>10770</td>\n",
       "      <td>26</td>\n",
       "      <td>110</td>\n",
       "      <td>1989</td>\n",
       "      <td>2780</td>\n",
       "    </tr>\n",
       "    <tr>\n",
       "      <th>2</th>\n",
       "      <td>88-515</td>\n",
       "      <td>brennan</td>\n",
       "      <td>concurring-in-part-and-dissenting-in-part</td>\n",
       "      <td>1988</td>\n",
       "      <td>849</td>\n",
       "      <td>3</td>\n",
       "      <td>10</td>\n",
       "      <td>155</td>\n",
       "      <td>243</td>\n",
       "    </tr>\n",
       "    <tr>\n",
       "      <th>3</th>\n",
       "      <td>87-548</td>\n",
       "      <td>brennan</td>\n",
       "      <td>dissent</td>\n",
       "      <td>1988</td>\n",
       "      <td>4067</td>\n",
       "      <td>17</td>\n",
       "      <td>11</td>\n",
       "      <td>568</td>\n",
       "      <td>543</td>\n",
       "    </tr>\n",
       "    <tr>\n",
       "      <th>4</th>\n",
       "      <td>88-2031</td>\n",
       "      <td>brennan</td>\n",
       "      <td>dissent</td>\n",
       "      <td>1989</td>\n",
       "      <td>11876</td>\n",
       "      <td>24</td>\n",
       "      <td>32</td>\n",
       "      <td>2652</td>\n",
       "      <td>2798</td>\n",
       "    </tr>\n",
       "  </tbody>\n",
       "</table>\n",
       "</div>"
      ],
      "text/plain": [
       "  docket_number   author                               opinion_type  term  \\\n",
       "0       86-1088  brennan                                concurrence  1988   \n",
       "1         86-39  brennan                                   majority  1986   \n",
       "2        88-515  brennan  concurring-in-part-and-dissenting-in-part  1988   \n",
       "3        87-548  brennan                                    dissent  1988   \n",
       "4       88-2031  brennan                                    dissent  1989   \n",
       "\n",
       "   tokens  ft   mc    dq   les  \n",
       "0      37   0    0     0     3  \n",
       "1   10770  26  110  1989  2780  \n",
       "2     849   3   10   155   243  \n",
       "3    4067  17   11   568   543  \n",
       "4   11876  24   32  2652  2798  "
      ]
     },
     "execution_count": 3,
     "metadata": {},
     "output_type": "execute_result"
    }
   ],
   "source": [
    "op_paths_to_pred_paths = {}\n",
    "for author in authors.ORDERED_JUSTICES:\n",
    "    for opinion_path in Path(f\"{data_path}/cap/known_authors/{author}\").glob(\"*.json\"):\n",
    "        filename = opinion_path.stem + \".txt\"\n",
    "        prediction_path = Path(f\"{data_path}/predictions\", model_name, author, filename)\n",
    "        op_paths_to_pred_paths[opinion_path] = prediction_path\n",
    "df = prediction_graphing.load_data(op_paths_to_pred_paths)\n",
    "df.head()"
   ]
  },
  {
   "cell_type": "code",
   "execution_count": 4,
   "metadata": {},
   "outputs": [],
   "source": [
    "categories = [\"ft\", \"mc\", \"dq\", \"les\"]"
   ]
  },
  {
   "cell_type": "code",
   "execution_count": 5,
   "metadata": {},
   "outputs": [],
   "source": [
    "fig = prediction_graphing.plot_opinion_length_per_term(df)\n",
    "save_and_show(fig, \"opinion_length_by_term\", prefix=\"predictions\", show=False)"
   ]
  },
  {
   "cell_type": "code",
   "execution_count": null,
   "metadata": {},
   "outputs": [],
   "source": [
    "for category in categories:\n",
    "    fig = prediction_graphing.plot_frequency_by_author(df, category)\n",
    "    save_and_show(fig, f\"frequency_by_author_{category}\", prefix=\"predictions\", show=False)"
   ]
  },
  {
   "cell_type": "code",
   "execution_count": 7,
   "metadata": {},
   "outputs": [],
   "source": [
    "for category in categories:\n",
    "    fig = prediction_graphing.plot_frequency_by_term(df, category)\n",
    "    save_and_show(fig, f\"frequency_by_term_{category}\", prefix=\"predictions\", show=False)"
   ]
  },
  {
   "cell_type": "code",
   "execution_count": 8,
   "metadata": {},
   "outputs": [],
   "source": [
    "ci = True\n",
    "for category in categories:\n",
    "    if ci:\n",
    "        filename = f\"rate_of_{category}_trend_ci\"\n",
    "    else:\n",
    "        filename = f\"rate_of_{category}_trend\"\n",
    "    fig = prediction_graphing.plot_frequency_line_with_trend(df, category, ci=ci)\n",
    "\n",
    "    save_and_show(fig, filename, prefix=\"predictions\", show=False)"
   ]
  },
  {
   "cell_type": "code",
   "execution_count": 11,
   "metadata": {},
   "outputs": [],
   "source": [
    "fig = prediction_graphing.plot_frequency_line_all_cats_ideology(df)\n",
    "save_and_show(fig, \"line_graphs_with_trends_by_party\", prefix=\"predictions\", show=False)"
   ]
  },
  {
   "cell_type": "code",
   "execution_count": 9,
   "metadata": {},
   "outputs": [],
   "source": [
    "fig = prediction_graphing.plot_frequency_line_all_cats(df)\n",
    "save_and_show(fig, \"line_graphs_with_trends\", prefix=\"predictions\")\n",
    "\n",
    "fig = prediction_graphing.plot_frequency_line_all_cats(df, ci=True)\n",
    "save_and_show(fig, \"line_graphs_with_trends_ci\", prefix=\"predictions\")"
   ]
  },
  {
   "cell_type": "code",
   "execution_count": 10,
   "metadata": {},
   "outputs": [],
   "source": [
    "# Frequencies by opinion type\n",
    "opinion_types = [\"concurrence\", \"majority\",\"concurring-in-part-and-dissenting-in-part\", \"dissent\"]\n",
    "for op_type in opinion_types:\n",
    "    sample = df[df[\"opinion_type\"] == op_type]\n",
    "    fig = prediction_graphing.plot_frequency_line_all_cats(sample)\n",
    "    save_and_show(fig, f\"frequency_in_{op_type}\", prefix=\"predictions\", show=False)"
   ]
  },
  {
   "cell_type": "code",
   "execution_count": 11,
   "metadata": {},
   "outputs": [],
   "source": [
    "# Frequencies by justice ideology\n",
    "for ideology in [\"liberal\", \"conservative\"]:\n",
    "    authors_of_interest = [author for author in authors.JUSTICE_TO_IDEOLOGY\n",
    "                            if authors.JUSTICE_TO_IDEOLOGY[author] == ideology]\n",
    "    df_sample = df[df[\"author\"].isin(authors_of_interest)]\n",
    "    fig = prediction_graphing.plot_frequency_line_all_cats(df_sample)\n",
    "    save_and_show(fig, f\"frequencies_{ideology}\", \"predictions\", show=False)"
   ]
  },
  {
   "cell_type": "markdown",
   "metadata": {},
   "source": [
    "TODO: get sets of predicted focal terms by year"
   ]
  },
  {
   "cell_type": "markdown",
   "metadata": {},
   "source": [
    "Thoughts on line graphs and ci intervals:\n",
    "\n",
    "Orange is term average of opinion-level category rates (but these rates themselves are predictions).\n",
    "Light blue/purple is 95% confidence interval.\n",
    "Blue is least squares trendline.\n",
    "\n",
    "This is measurement issue (measurement uncertainty and sampling uncertainty)\n",
    "\n",
    "Don't have to diagnose/solve the potential \"trend is artifact of predicting on earlier data than training data\" issue"
   ]
  },
  {
   "cell_type": "markdown",
   "metadata": {},
   "source": [
    "###  Resources\n",
    "\n",
    "- Trendline: https://www.statology.org/matplotlib-trendline/ (adapted to new numpy.polynomial)\n",
    "- Confidence interval: https://www.pythoncharts.com/python/line-chart-with-confidence-interval/#matplotlib"
   ]
  }
 ],
 "metadata": {
  "kernelspec": {
   "display_name": "scotus-metalang",
   "language": "python",
   "name": "python3"
  },
  "language_info": {
   "codemirror_mode": {
    "name": "ipython",
    "version": 3
   },
   "file_extension": ".py",
   "mimetype": "text/x-python",
   "name": "python",
   "nbconvert_exporter": "python",
   "pygments_lexer": "ipython3",
   "version": "3.11.8"
  }
 },
 "nbformat": 4,
 "nbformat_minor": 2
}
