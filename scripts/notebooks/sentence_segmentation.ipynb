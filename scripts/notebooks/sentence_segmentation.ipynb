{
 "cells": [
  {
   "cell_type": "markdown",
   "metadata": {},
   "source": [
    "### Use custom trained spaCy segmenter to segment CAP data"
   ]
  },
  {
   "cell_type": "code",
   "execution_count": null,
   "metadata": {},
   "outputs": [],
   "source": [
    "# Load CAP data\n",
    "# Filter out things formatting/section lines that only have roman numerals or single letters (\"A\", \"II\")\n",
    "# Load segmenter\n",
    "# Run each paragraph of each opinion through segmenter (alternatively, concat paragraphs if faster, but might be less accurate)\n",
    "# If doing paragraphs only, account for introductions of quotes (e.g. \"Section 123 says:\\nxyz\")"
   ]
  }
 ],
 "metadata": {
  "kernelspec": {
   "display_name": "scotus-metalang",
   "language": "python",
   "name": "python3"
  },
  "language_info": {
   "codemirror_mode": {
    "name": "ipython",
    "version": 3
   },
   "file_extension": ".py",
   "mimetype": "text/x-python",
   "name": "python",
   "nbconvert_exporter": "python",
   "pygments_lexer": "ipython3",
   "version": "3.12.1"
  }
 },
 "nbformat": 4,
 "nbformat_minor": 2
}
