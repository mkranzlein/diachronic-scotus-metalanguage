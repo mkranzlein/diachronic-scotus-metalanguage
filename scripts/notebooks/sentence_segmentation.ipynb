{
 "cells": [
  {
   "cell_type": "markdown",
   "metadata": {},
   "source": [
    "### Use custom trained spaCy segmenter to segment CAP data"
   ]
  },
  {
   "cell_type": "code",
   "execution_count": null,
   "metadata": {},
   "outputs": [],
   "source": [
    "# Load CAP data\n",
    "# Filter out things formatting/section lines that only have roman numerals or single letters (\"A\", \"II\")\n",
    "# Load segmenter\n",
    "# Run each paragraph of each opinion through segmenter (alternatively, concat paragraphs if faster, but might be less accurate)\n",
    "# If doing paragraphs only, account for introductions of quotes (e.g. \"Section 123 says:\\nxyz\")"
   ]
  },
  {
   "cell_type": "code",
   "execution_count": 3,
   "metadata": {},
   "outputs": [
    {
     "data": {
      "text/plain": [
       "'/home/mkranzlein/michael/dev/scotus-metalang'"
      ]
     },
     "execution_count": 3,
     "metadata": {},
     "output_type": "execute_result"
    }
   ],
   "source": [
    "%cd -q ../..\n",
    "%pwd"
   ]
  },
  {
   "cell_type": "code",
   "execution_count": 1,
   "metadata": {},
   "outputs": [],
   "source": [
    "from itertools import chain\n",
    "\n",
    "import jsonlines\n",
    "import spacy\n",
    "from tokenizers import pre_tokenizers\n",
    "from tokenizers.pre_tokenizers import Whitespace, Punctuation, Digits\n"
   ]
  },
  {
   "cell_type": "code",
   "execution_count": 4,
   "metadata": {},
   "outputs": [
    {
     "name": "stderr",
     "output_type": "stream",
     "text": [
      "/home/mkranzlein/mambaforge/envs/scotus-metalang/lib/python3.9/site-packages/tqdm/auto.py:22: TqdmWarning: IProgress not found. Please update jupyter and ipywidgets. See https://ipywidgets.readthedocs.io/en/stable/user_install.html\n",
      "  from .autonotebook import tqdm as notebook_tqdm\n"
     ]
    }
   ],
   "source": [
    "\n",
    "segmenter = spacy.load(\"segmenter/model-last\")\n"
   ]
  },
  {
   "cell_type": "code",
   "execution_count": 38,
   "metadata": {},
   "outputs": [],
   "source": [
    "opinions = []\n",
    "with jsonlines.open(\"data/harvard_cap/14_cases_from_1986_to_2019.jsonl\", \"r\") as f:\n",
    "    for case in f:\n",
    "        try:\n",
    "            case_opinions = case[\"casebody\"][\"data\"][\"opinions\"]\n",
    "            for opinion in case_opinions:\n",
    "                opinions.append(opinion[\"text\"])\n",
    "        except:\n",
    "            continue"
   ]
  },
  {
   "cell_type": "code",
   "execution_count": 40,
   "metadata": {},
   "outputs": [],
   "source": [
    "opinions_as_paragraphs = [x.split(\"\\n\") for x in opinions]"
   ]
  },
  {
   "cell_type": "code",
   "execution_count": 59,
   "metadata": {},
   "outputs": [],
   "source": [
    "pre_tokenizer = pre_tokenizers.Sequence([Whitespace(), Punctuation(), Digits()])\n",
    "\n",
    "def get_sentences(doc) -> list[str]:\n",
    "    sentences = []\n",
    "    for sent in doc.sents:\n",
    "        tokens = pre_tokenizer.pre_tokenize_str(sent.text)\n",
    "        tokens = [x[0] for x in tokens]\n",
    "        tokens = \" \".join(tokens)\n",
    "        sentences.append(tokens)\n",
    "    return sentences"
   ]
  },
  {
   "cell_type": "code",
   "execution_count": 60,
   "metadata": {},
   "outputs": [
    {
     "name": "stdout",
     "output_type": "stream",
     "text": [
      "791 total opinions\n",
      "0\n",
      "50\n",
      "100\n",
      "150\n",
      "200\n",
      "250\n",
      "300\n",
      "350\n",
      "400\n",
      "450\n",
      "500\n",
      "550\n",
      "600\n",
      "650\n",
      "700\n",
      "750\n"
     ]
    }
   ],
   "source": [
    "opinions_as_sentences = []\n",
    "print(f\"{len(opinions_as_paragraphs)} total opinions\")\n",
    "for i, opinion in enumerate(opinions_as_paragraphs):\n",
    "    if i % 50 == 0:\n",
    "        print(i)\n",
    "    opinion_sentences = []\n",
    "    for paragraph in opinion:\n",
    "        doc = segmenter(paragraph)\n",
    "        sents = get_sentences(doc) # Sents for the paragraph\n",
    "        opinion_sentences.append(sents)\n",
    "    # Flatten list of list to list\n",
    "    opinion_sentences = list(chain(*opinion_sentences))\n",
    "    opinions_as_sentences.append(opinion_sentences)\n",
    "        "
   ]
  },
  {
   "cell_type": "code",
   "execution_count": 63,
   "metadata": {},
   "outputs": [
    {
     "data": {
      "text/plain": [
       "['The statute defines “ cost ” as “ the price of such item of liquor to the retailer plus twelve percentum of such price . ”',\n",
       " '§ 101 - bb ( 2 ) ( b ) .',\n",
       " '“ Price , ” in turn , is defined as the posted bottle price in effect at the time the retailer sells or offers to sell the item .',\n",
       " 'Ibid .',\n",
       " 'Although the statute defines retail cost in terms of the wholesaler ’ s posted bottle price , retailers generally purchase liquor by the case .',\n",
       " 'The SLA expressly has authorized wholesalers to reduce , or “ post off , ” the case price of an item without reducing the posted bottle price of the item .',\n",
       " 'SLA Bulletin 471 ( June 29 , 1973 ) .',\n",
       " 'By reducing the case price without reducing the bottle price , wholesalers can compel retailers to charge more than 112 percent of the actual wholesale cost .',\n",
       " 'Similarly , because § 101 - bb ( 2 ) ( b ) defines “ cost ! ’ in terms of the posted bottle price in effect when the retailer sells or offers to sell the item , wholesalers can sell retailers large quantities in a month when prices are low and then require the retailers to sell at an abnormally high markup by raising the bottle price in succeeding months .',\n",
       " 'The New York retail pricing system thus permits wholesalers to set retail prices , and retail markups , without regard to actual retail costs .']"
      ]
     },
     "execution_count": 63,
     "metadata": {},
     "output_type": "execute_result"
    }
   ],
   "source": [
    "opinions_as_sentences[0][15:25]"
   ]
  },
  {
   "cell_type": "code",
   "execution_count": 19,
   "metadata": {},
   "outputs": [],
   "source": [
    "paragraph = \"This is sentence 1. This is sentence 2. And this is sentence three about §123.\"\n",
    "doc = segmenter(paragraph)"
   ]
  }
 ],
 "metadata": {
  "kernelspec": {
   "display_name": "scotus-metalang",
   "language": "python",
   "name": "python3"
  },
  "language_info": {
   "codemirror_mode": {
    "name": "ipython",
    "version": 3
   },
   "file_extension": ".py",
   "mimetype": "text/x-python",
   "name": "python",
   "nbconvert_exporter": "python",
   "pygments_lexer": "ipython3",
   "version": "3.9.13"
  }
 },
 "nbformat": 4,
 "nbformat_minor": 2
}
