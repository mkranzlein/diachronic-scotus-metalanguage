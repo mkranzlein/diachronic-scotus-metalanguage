{
 "cells": [
  {
   "cell_type": "code",
   "execution_count": 1,
   "metadata": {},
   "outputs": [],
   "source": [
    "%cd -q ../..\n",
    "\n",
    "%load_ext autoreload\n",
    "%autoreload 2"
   ]
  },
  {
   "cell_type": "code",
   "execution_count": 2,
   "metadata": {},
   "outputs": [],
   "source": [
    "import json\n",
    "import os\n",
    "from collections import Counter\n",
    "from pathlib import Path\n",
    "\n",
    "from dotenv import load_dotenv\n",
    "from matplotlib import pyplot as plt\n",
    "\n",
    "from scotus_metalang.diachronic_analysis import authors, summary_graphing\n",
    "from scotus_metalang.diachronic_analysis.graphing import save_and_show\n",
    "\n",
    "load_dotenv()\n",
    "data_path = os.environ[\"SCOTUS_METALANG_DATA_PATH\"]\n",
    "\n",
    "plt.ioff()\n",
    "\n",
    "opinions = []\n",
    "for filepath in Path(f\"{data_path}/cap/known_authors\").glob(\"*/*.json\"):\n",
    "    with open(filepath, \"r\") as f:\n",
    "        opinion = json.load(f)\n",
    "        opinions.append(opinion)"
   ]
  },
  {
   "cell_type": "markdown",
   "metadata": {},
   "source": [
    "## Counts"
   ]
  },
  {
   "cell_type": "markdown",
   "metadata": {},
   "source": [
    "How many cases total?"
   ]
  },
  {
   "cell_type": "code",
   "execution_count": 3,
   "metadata": {},
   "outputs": [
    {
     "data": {
      "text/plain": [
       "2778"
      ]
     },
     "execution_count": 3,
     "metadata": {},
     "output_type": "execute_result"
    }
   ],
   "source": [
    "num_case_ids = len(set([opinion[\"scdb_id\"] for opinion in opinions]))\n",
    "num_case_ids"
   ]
  },
  {
   "cell_type": "markdown",
   "metadata": {},
   "source": [
    "#### How many opinions total?"
   ]
  },
  {
   "cell_type": "code",
   "execution_count": 4,
   "metadata": {},
   "outputs": [
    {
     "data": {
      "text/plain": [
       "6484"
      ]
     },
     "execution_count": 4,
     "metadata": {},
     "output_type": "execute_result"
    }
   ],
   "source": [
    "len(opinions)"
   ]
  },
  {
   "cell_type": "markdown",
   "metadata": {},
   "source": [
    "## Graphs\n"
   ]
  },
  {
   "cell_type": "code",
   "execution_count": 5,
   "metadata": {},
   "outputs": [],
   "source": [
    "# fig = summary_graphing.plot_cases_per_term(df)\n",
    "# save_and_show(fig, \"cases_per_term\")"
   ]
  },
  {
   "cell_type": "markdown",
   "metadata": {},
   "source": [
    "#### Opinion Types by Term"
   ]
  },
  {
   "cell_type": "code",
   "execution_count": 6,
   "metadata": {},
   "outputs": [],
   "source": [
    "opinion_types_by_term = summary_graphing.get_opinion_types_by_term(opinions)\n",
    "fig = summary_graphing.plot_opinion_types_by_term_abs(opinion_types_by_term)\n",
    "save_and_show(fig, \"opinion_types_by_term_absolute\", prefix=\"summary_stats\")\n",
    "fig = summary_graphing.plot_opinion_types_by_term_norm(opinion_types_by_term)\n",
    "save_and_show(fig, \"opinion_types_by_term_normalized\", prefix=\"summary_stats\")"
   ]
  },
  {
   "cell_type": "markdown",
   "metadata": {},
   "source": [
    "#### Opinion Types by Author"
   ]
  },
  {
   "cell_type": "code",
   "execution_count": 7,
   "metadata": {},
   "outputs": [],
   "source": [
    "opinion_types_by_author = summary_graphing.get_opinion_types_by_author(opinions)\n",
    "fig = summary_graphing.plot_opinion_types_abs(opinion_types_by_author)\n",
    "save_and_show(fig, \"opinion_types_by_author_absolute\", prefix=\"summary_stats\")\n",
    "fig = summary_graphing.plot_opinion_types_norm(opinion_types_by_author)\n",
    "save_and_show(fig, \"opinion_types_by_author_normalized\", prefix=\"summary_stats\")"
   ]
  },
  {
   "cell_type": "markdown",
   "metadata": {},
   "source": [
    "## Tables"
   ]
  },
  {
   "cell_type": "markdown",
   "metadata": {},
   "source": [
    "#### Author case counts and term start/end"
   ]
  },
  {
   "cell_type": "code",
   "execution_count": 16,
   "metadata": {},
   "outputs": [
    {
     "data": {
      "text/plain": [
       "\"O'connor\""
      ]
     },
     "execution_count": 16,
     "metadata": {},
     "output_type": "execute_result"
    }
   ],
   "source": [
    "\"O'Connor\".capitalize()"
   ]
  },
  {
   "cell_type": "code",
   "execution_count": 19,
   "metadata": {},
   "outputs": [
    {
     "name": "stdout",
     "output_type": "stream",
     "text": [
      "Brennan & 175 & 1956 & 1990\\\\\n",
      "White & 226 & 1962 & 1993\\\\\n",
      "Marshall & 157 & 1967 & 1991\\\\\n",
      "Blackmun & 250 & 1970 & 1994\\\\\n",
      "Powell & 41 & 1972 & 1987\\\\\n",
      "Rehnquist & 323 & 1972 & 2005\\\\\n",
      "Stevens & 888 & 1975 & 2010\\\\\n",
      "O'Connor & 453 & 1981 & 2006\\\\\n",
      "Scalia & 848 & 1986 & 2016\\\\\n",
      "Kennedy & 523 & 1988 & 2018\\\\\n",
      "Souter & 359 & 1990 & 2009\\\\\n",
      "Thomas & 628 & 1991 & —\\\\\n",
      "Ginsburg & 439 & 1993 & 2020\\\\\n",
      "Breyer & 499 & 1994 & 2022\\\\\n",
      "Roberts & 160 & 2005 & —\\\\\n",
      "Alito & 245 & 2006 & —\\\\\n",
      "Sotomayor & 155 & 2009 & —\\\\\n",
      "Kagan & 81 & 2010 & —\\\\\n",
      "Gorsuch & 24 & 2017 & —\\\\\n",
      "Kavanaugh & 10 & 2018 & —\\\\\n"
     ]
    }
   ],
   "source": [
    "num_opinions_by_author = {}\n",
    "docket_numbers = set()\n",
    "for author in authors.ORDERED_JUSTICES:\n",
    "    opinion_paths =list(Path(f\"{data_path}/cap/known_authors/{author}/\").glob(\"*.json\"))\n",
    "    num_opinions = len(opinion_paths)\n",
    "    num_opinions_by_author[author] = num_opinions\n",
    "\n",
    "author_counts = Counter([opinion[\"author\"] for opinion in opinions])\n",
    "for author in authors.ORDERED_JUSTICES:\n",
    "    num_opinions = author_counts[author]\n",
    "    term_start = authors.ORDERED_JUSTICES[author][0]\n",
    "    term_end = authors.ORDERED_JUSTICES[author][1]\n",
    "    if author == \"oconnor\":\n",
    "        author = \"o'connor\"\n",
    "    term_end = term_end if term_end != 2100 else \"—\"\n",
    "    print(f\"{author.title()} & {num_opinions} & {term_start} & {term_end}\\\\\\\\\")"
   ]
  },
  {
   "cell_type": "markdown",
   "metadata": {},
   "source": [
    "#### Cases with n opinions"
   ]
  },
  {
   "cell_type": "code",
   "execution_count": 9,
   "metadata": {},
   "outputs": [
    {
     "name": "stdout",
     "output_type": "stream",
     "text": [
      "1 & 740\n",
      "2 & 986\n",
      "3 & 637\n",
      "4 & 268\n",
      "5 & 100\n",
      "6 & 41\n",
      "7 & 5\n",
      "8 & 1\n",
      "Total & 2778\n"
     ]
    }
   ],
   "source": [
    "opinions_per_case = Counter()\n",
    "for opinion in opinions:\n",
    "    scdb_id = opinion[\"scdb_id\"]\n",
    "    assert scdb_id is not None\n",
    "    opinions_per_case[scdb_id] += 1\n",
    "num_cases_with_n_opinions = Counter(opinions_per_case.values())\n",
    "for k, v in sorted(num_cases_with_n_opinions.items()):\n",
    "    print(f\"{k} & {v}\")\n",
    "print(f\"Total & {sum([v for v in num_cases_with_n_opinions.values()])}\")\n"
   ]
  }
 ],
 "metadata": {
  "kernelspec": {
   "display_name": "scotus-metalang",
   "language": "python",
   "name": "python3"
  },
  "language_info": {
   "codemirror_mode": {
    "name": "ipython",
    "version": 3
   },
   "file_extension": ".py",
   "mimetype": "text/x-python",
   "name": "python",
   "nbconvert_exporter": "python",
   "pygments_lexer": "ipython3",
   "version": "3.11.8"
  }
 },
 "nbformat": 4,
 "nbformat_minor": 2
}
