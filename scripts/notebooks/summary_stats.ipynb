{
 "cells": [
  {
   "cell_type": "code",
   "execution_count": 1,
   "metadata": {},
   "outputs": [],
   "source": [
    "%cd -q ../..\n",
    "\n",
    "%load_ext autoreload\n",
    "%autoreload 2"
   ]
  },
  {
   "cell_type": "code",
   "execution_count": 2,
   "metadata": {},
   "outputs": [],
   "source": [
    "\n",
    "import json\n",
    "import os\n",
    "from collections import Counter, defaultdict\n",
    "from pathlib import Path\n",
    "\n",
    "import numpy as np\n",
    "from dotenv import load_dotenv\n",
    "from matplotlib import pyplot as plt\n",
    "\n",
    "from scotus_metalang.diachronic_analysis import authors\n",
    "from scotus_metalang.diachronic_analysis import summary_graphing\n",
    "\n",
    "load_dotenv()\n",
    "data_path = os.environ[\"SCOTUS_METALANG_DATA_PATH\"]"
   ]
  },
  {
   "cell_type": "code",
   "execution_count": 3,
   "metadata": {},
   "outputs": [],
   "source": [
    "opinions = []\n",
    "for filepath in Path(f\"{data_path}/cap/known_authors\").glob(\"*/*.json\"):\n",
    "    with open(filepath, \"r\") as f:\n",
    "        opinion = json.load(f)\n",
    "        opinions.append(opinion)"
   ]
  },
  {
   "cell_type": "code",
   "execution_count": 59,
   "metadata": {},
   "outputs": [],
   "source": [
    "import pandas as pd"
   ]
  },
  {
   "cell_type": "code",
   "execution_count": 73,
   "metadata": {},
   "outputs": [],
   "source": [
    "scdb = pd.read_csv(f\"{data_path}/scdb/SCDB_2023_01_justiceCentered_Docket.csv\",\n",
    "                   header=0, encoding=\"cp1252\")\n",
    "scdb = scdb[(scdb[\"term\"] >= 1986) & (scdb[\"term\"] <= 2018)]\n",
    "scdb = scdb[scdb[\"docketId\"].str.endswith(\"01\")]"
   ]
  },
  {
   "cell_type": "code",
   "execution_count": 75,
   "metadata": {},
   "outputs": [
    {
     "data": {
      "text/html": [
       "<div>\n",
       "<style scoped>\n",
       "    .dataframe tbody tr th:only-of-type {\n",
       "        vertical-align: middle;\n",
       "    }\n",
       "\n",
       "    .dataframe tbody tr th {\n",
       "        vertical-align: top;\n",
       "    }\n",
       "\n",
       "    .dataframe thead th {\n",
       "        text-align: right;\n",
       "    }\n",
       "</style>\n",
       "<table border=\"1\" class=\"dataframe\">\n",
       "  <thead>\n",
       "    <tr style=\"text-align: right;\">\n",
       "      <th></th>\n",
       "      <th>caseId</th>\n",
       "      <th>docketId</th>\n",
       "      <th>caseIssuesId</th>\n",
       "      <th>voteId</th>\n",
       "      <th>dateDecision</th>\n",
       "      <th>decisionType</th>\n",
       "      <th>usCite</th>\n",
       "      <th>sctCite</th>\n",
       "      <th>ledCite</th>\n",
       "      <th>lexisCite</th>\n",
       "      <th>...</th>\n",
       "      <th>majVotes</th>\n",
       "      <th>minVotes</th>\n",
       "      <th>justice</th>\n",
       "      <th>justiceName</th>\n",
       "      <th>vote</th>\n",
       "      <th>opinion</th>\n",
       "      <th>direction</th>\n",
       "      <th>majority</th>\n",
       "      <th>firstAgreement</th>\n",
       "      <th>secondAgreement</th>\n",
       "    </tr>\n",
       "  </thead>\n",
       "  <tbody>\n",
       "    <tr>\n",
       "      <th>83351</th>\n",
       "      <td>2006-001</td>\n",
       "      <td>2006-001-01</td>\n",
       "      <td>2006-001-01-01</td>\n",
       "      <td>2006-001-01-01-01-01</td>\n",
       "      <td>10/20/2006</td>\n",
       "      <td>2</td>\n",
       "      <td>549 U.S. 1</td>\n",
       "      <td>127 S. Ct. 5</td>\n",
       "      <td>166 L. Ed. 2d 1</td>\n",
       "      <td>2006 U.S. LEXIS 8000</td>\n",
       "      <td>...</td>\n",
       "      <td>9</td>\n",
       "      <td>0</td>\n",
       "      <td>103</td>\n",
       "      <td>JPStevens</td>\n",
       "      <td>3.0</td>\n",
       "      <td>2.0</td>\n",
       "      <td>1.0</td>\n",
       "      <td>2.0</td>\n",
       "      <td>NaN</td>\n",
       "      <td>NaN</td>\n",
       "    </tr>\n",
       "    <tr>\n",
       "      <th>83369</th>\n",
       "      <td>2006-002</td>\n",
       "      <td>2006-002-01</td>\n",
       "      <td>2006-002-01-01</td>\n",
       "      <td>2006-002-01-01-01-01</td>\n",
       "      <td>10/13/2006</td>\n",
       "      <td>1</td>\n",
       "      <td>549 U.S. 7</td>\n",
       "      <td>127 S. Ct. 469</td>\n",
       "      <td>166 L. Ed. 2d 334</td>\n",
       "      <td>2006 U.S. LEXIS 8522</td>\n",
       "      <td>...</td>\n",
       "      <td>5</td>\n",
       "      <td>4</td>\n",
       "      <td>103</td>\n",
       "      <td>JPStevens</td>\n",
       "      <td>2.0</td>\n",
       "      <td>2.0</td>\n",
       "      <td>2.0</td>\n",
       "      <td>1.0</td>\n",
       "      <td>NaN</td>\n",
       "      <td>NaN</td>\n",
       "    </tr>\n",
       "    <tr>\n",
       "      <th>83370</th>\n",
       "      <td>2006-002</td>\n",
       "      <td>2006-002-01</td>\n",
       "      <td>2006-002-01-01</td>\n",
       "      <td>2006-002-01-01-01-02</td>\n",
       "      <td>10/13/2006</td>\n",
       "      <td>1</td>\n",
       "      <td>549 U.S. 7</td>\n",
       "      <td>127 S. Ct. 469</td>\n",
       "      <td>166 L. Ed. 2d 334</td>\n",
       "      <td>2006 U.S. LEXIS 8522</td>\n",
       "      <td>...</td>\n",
       "      <td>5</td>\n",
       "      <td>4</td>\n",
       "      <td>105</td>\n",
       "      <td>AScalia</td>\n",
       "      <td>3.0</td>\n",
       "      <td>2.0</td>\n",
       "      <td>1.0</td>\n",
       "      <td>2.0</td>\n",
       "      <td>NaN</td>\n",
       "      <td>NaN</td>\n",
       "    </tr>\n",
       "    <tr>\n",
       "      <th>83371</th>\n",
       "      <td>2006-002</td>\n",
       "      <td>2006-002-01</td>\n",
       "      <td>2006-002-01-01</td>\n",
       "      <td>2006-002-01-01-01-03</td>\n",
       "      <td>10/13/2006</td>\n",
       "      <td>1</td>\n",
       "      <td>549 U.S. 7</td>\n",
       "      <td>127 S. Ct. 469</td>\n",
       "      <td>166 L. Ed. 2d 334</td>\n",
       "      <td>2006 U.S. LEXIS 8522</td>\n",
       "      <td>...</td>\n",
       "      <td>5</td>\n",
       "      <td>4</td>\n",
       "      <td>106</td>\n",
       "      <td>AMKennedy</td>\n",
       "      <td>1.0</td>\n",
       "      <td>2.0</td>\n",
       "      <td>1.0</td>\n",
       "      <td>2.0</td>\n",
       "      <td>NaN</td>\n",
       "      <td>NaN</td>\n",
       "    </tr>\n",
       "    <tr>\n",
       "      <th>83381</th>\n",
       "      <td>2006-003</td>\n",
       "      <td>2006-003-01</td>\n",
       "      <td>2006-003-01-01</td>\n",
       "      <td>2006-003-01-01-01-04</td>\n",
       "      <td>12/5/2006</td>\n",
       "      <td>1</td>\n",
       "      <td>549 U.S. 47</td>\n",
       "      <td>127 S. Ct. 625</td>\n",
       "      <td>166 L. Ed. 2d 462</td>\n",
       "      <td>2006 U.S. LEXIS 9442</td>\n",
       "      <td>...</td>\n",
       "      <td>8</td>\n",
       "      <td>1</td>\n",
       "      <td>107</td>\n",
       "      <td>DHSouter</td>\n",
       "      <td>1.0</td>\n",
       "      <td>2.0</td>\n",
       "      <td>2.0</td>\n",
       "      <td>2.0</td>\n",
       "      <td>NaN</td>\n",
       "      <td>NaN</td>\n",
       "    </tr>\n",
       "    <tr>\n",
       "      <th>...</th>\n",
       "      <td>...</td>\n",
       "      <td>...</td>\n",
       "      <td>...</td>\n",
       "      <td>...</td>\n",
       "      <td>...</td>\n",
       "      <td>...</td>\n",
       "      <td>...</td>\n",
       "      <td>...</td>\n",
       "      <td>...</td>\n",
       "      <td>...</td>\n",
       "      <td>...</td>\n",
       "      <td>...</td>\n",
       "      <td>...</td>\n",
       "      <td>...</td>\n",
       "      <td>...</td>\n",
       "      <td>...</td>\n",
       "      <td>...</td>\n",
       "      <td>...</td>\n",
       "      <td>...</td>\n",
       "      <td>...</td>\n",
       "      <td>...</td>\n",
       "    </tr>\n",
       "    <tr>\n",
       "      <th>84076</th>\n",
       "      <td>2006-073</td>\n",
       "      <td>2006-073-01</td>\n",
       "      <td>2006-073-01-01</td>\n",
       "      <td>2006-073-01-01-01-08</td>\n",
       "      <td>6/28/2007</td>\n",
       "      <td>1</td>\n",
       "      <td>551 U.S. 701</td>\n",
       "      <td>127 S. Ct. 2738</td>\n",
       "      <td>168 L. Ed. 2d 508</td>\n",
       "      <td>2007 U.S. LEXIS 8670</td>\n",
       "      <td>...</td>\n",
       "      <td>5</td>\n",
       "      <td>4</td>\n",
       "      <td>110</td>\n",
       "      <td>SGBreyer</td>\n",
       "      <td>2.0</td>\n",
       "      <td>2.0</td>\n",
       "      <td>2.0</td>\n",
       "      <td>1.0</td>\n",
       "      <td>NaN</td>\n",
       "      <td>NaN</td>\n",
       "    </tr>\n",
       "    <tr>\n",
       "      <th>84089</th>\n",
       "      <td>2006-074</td>\n",
       "      <td>2006-074-01</td>\n",
       "      <td>2006-074-01-01</td>\n",
       "      <td>2006-074-01-01-01-03</td>\n",
       "      <td>6/28/2007</td>\n",
       "      <td>1</td>\n",
       "      <td>551 U.S. 877</td>\n",
       "      <td>127 S. Ct. 2705</td>\n",
       "      <td>168 L. Ed. 2d 623</td>\n",
       "      <td>2007 U.S. LEXIS 8668</td>\n",
       "      <td>...</td>\n",
       "      <td>5</td>\n",
       "      <td>4</td>\n",
       "      <td>106</td>\n",
       "      <td>AMKennedy</td>\n",
       "      <td>1.0</td>\n",
       "      <td>2.0</td>\n",
       "      <td>1.0</td>\n",
       "      <td>2.0</td>\n",
       "      <td>NaN</td>\n",
       "      <td>NaN</td>\n",
       "    </tr>\n",
       "    <tr>\n",
       "      <th>84093</th>\n",
       "      <td>2006-074</td>\n",
       "      <td>2006-074-01</td>\n",
       "      <td>2006-074-01-01</td>\n",
       "      <td>2006-074-01-01-01-07</td>\n",
       "      <td>6/28/2007</td>\n",
       "      <td>1</td>\n",
       "      <td>551 U.S. 877</td>\n",
       "      <td>127 S. Ct. 2705</td>\n",
       "      <td>168 L. Ed. 2d 623</td>\n",
       "      <td>2007 U.S. LEXIS 8668</td>\n",
       "      <td>...</td>\n",
       "      <td>5</td>\n",
       "      <td>4</td>\n",
       "      <td>110</td>\n",
       "      <td>SGBreyer</td>\n",
       "      <td>2.0</td>\n",
       "      <td>2.0</td>\n",
       "      <td>2.0</td>\n",
       "      <td>1.0</td>\n",
       "      <td>NaN</td>\n",
       "      <td>NaN</td>\n",
       "    </tr>\n",
       "    <tr>\n",
       "      <th>84098</th>\n",
       "      <td>2006-075</td>\n",
       "      <td>2006-075-01</td>\n",
       "      <td>2006-075-01-01</td>\n",
       "      <td>2006-075-01-01-01-03</td>\n",
       "      <td>6/28/2007</td>\n",
       "      <td>1</td>\n",
       "      <td>551 U.S. 930</td>\n",
       "      <td>127 S. Ct. 2842</td>\n",
       "      <td>168 L. Ed. 2d 662</td>\n",
       "      <td>2007 U.S. LEXIS 8667</td>\n",
       "      <td>...</td>\n",
       "      <td>5</td>\n",
       "      <td>4</td>\n",
       "      <td>106</td>\n",
       "      <td>AMKennedy</td>\n",
       "      <td>1.0</td>\n",
       "      <td>2.0</td>\n",
       "      <td>2.0</td>\n",
       "      <td>2.0</td>\n",
       "      <td>NaN</td>\n",
       "      <td>NaN</td>\n",
       "    </tr>\n",
       "    <tr>\n",
       "      <th>84100</th>\n",
       "      <td>2006-075</td>\n",
       "      <td>2006-075-01</td>\n",
       "      <td>2006-075-01-01</td>\n",
       "      <td>2006-075-01-01-01-05</td>\n",
       "      <td>6/28/2007</td>\n",
       "      <td>1</td>\n",
       "      <td>551 U.S. 930</td>\n",
       "      <td>127 S. Ct. 2842</td>\n",
       "      <td>168 L. Ed. 2d 662</td>\n",
       "      <td>2007 U.S. LEXIS 8667</td>\n",
       "      <td>...</td>\n",
       "      <td>5</td>\n",
       "      <td>4</td>\n",
       "      <td>108</td>\n",
       "      <td>CThomas</td>\n",
       "      <td>2.0</td>\n",
       "      <td>2.0</td>\n",
       "      <td>1.0</td>\n",
       "      <td>1.0</td>\n",
       "      <td>NaN</td>\n",
       "      <td>NaN</td>\n",
       "    </tr>\n",
       "  </tbody>\n",
       "</table>\n",
       "<p>171 rows × 61 columns</p>\n",
       "</div>"
      ],
      "text/plain": [
       "         caseId     docketId    caseIssuesId                voteId  \\\n",
       "83351  2006-001  2006-001-01  2006-001-01-01  2006-001-01-01-01-01   \n",
       "83369  2006-002  2006-002-01  2006-002-01-01  2006-002-01-01-01-01   \n",
       "83370  2006-002  2006-002-01  2006-002-01-01  2006-002-01-01-01-02   \n",
       "83371  2006-002  2006-002-01  2006-002-01-01  2006-002-01-01-01-03   \n",
       "83381  2006-003  2006-003-01  2006-003-01-01  2006-003-01-01-01-04   \n",
       "...         ...          ...             ...                   ...   \n",
       "84076  2006-073  2006-073-01  2006-073-01-01  2006-073-01-01-01-08   \n",
       "84089  2006-074  2006-074-01  2006-074-01-01  2006-074-01-01-01-03   \n",
       "84093  2006-074  2006-074-01  2006-074-01-01  2006-074-01-01-01-07   \n",
       "84098  2006-075  2006-075-01  2006-075-01-01  2006-075-01-01-01-03   \n",
       "84100  2006-075  2006-075-01  2006-075-01-01  2006-075-01-01-01-05   \n",
       "\n",
       "      dateDecision  decisionType        usCite          sctCite  \\\n",
       "83351   10/20/2006             2    549 U.S. 1     127 S. Ct. 5   \n",
       "83369   10/13/2006             1    549 U.S. 7   127 S. Ct. 469   \n",
       "83370   10/13/2006             1    549 U.S. 7   127 S. Ct. 469   \n",
       "83371   10/13/2006             1    549 U.S. 7   127 S. Ct. 469   \n",
       "83381    12/5/2006             1   549 U.S. 47   127 S. Ct. 625   \n",
       "...            ...           ...           ...              ...   \n",
       "84076    6/28/2007             1  551 U.S. 701  127 S. Ct. 2738   \n",
       "84089    6/28/2007             1  551 U.S. 877  127 S. Ct. 2705   \n",
       "84093    6/28/2007             1  551 U.S. 877  127 S. Ct. 2705   \n",
       "84098    6/28/2007             1  551 U.S. 930  127 S. Ct. 2842   \n",
       "84100    6/28/2007             1  551 U.S. 930  127 S. Ct. 2842   \n",
       "\n",
       "                 ledCite             lexisCite  ...  majVotes  minVotes  \\\n",
       "83351    166 L. Ed. 2d 1  2006 U.S. LEXIS 8000  ...         9         0   \n",
       "83369  166 L. Ed. 2d 334  2006 U.S. LEXIS 8522  ...         5         4   \n",
       "83370  166 L. Ed. 2d 334  2006 U.S. LEXIS 8522  ...         5         4   \n",
       "83371  166 L. Ed. 2d 334  2006 U.S. LEXIS 8522  ...         5         4   \n",
       "83381  166 L. Ed. 2d 462  2006 U.S. LEXIS 9442  ...         8         1   \n",
       "...                  ...                   ...  ...       ...       ...   \n",
       "84076  168 L. Ed. 2d 508  2007 U.S. LEXIS 8670  ...         5         4   \n",
       "84089  168 L. Ed. 2d 623  2007 U.S. LEXIS 8668  ...         5         4   \n",
       "84093  168 L. Ed. 2d 623  2007 U.S. LEXIS 8668  ...         5         4   \n",
       "84098  168 L. Ed. 2d 662  2007 U.S. LEXIS 8667  ...         5         4   \n",
       "84100  168 L. Ed. 2d 662  2007 U.S. LEXIS 8667  ...         5         4   \n",
       "\n",
       "      justice justiceName vote opinion direction  majority  firstAgreement  \\\n",
       "83351     103   JPStevens  3.0     2.0       1.0       2.0             NaN   \n",
       "83369     103   JPStevens  2.0     2.0       2.0       1.0             NaN   \n",
       "83370     105     AScalia  3.0     2.0       1.0       2.0             NaN   \n",
       "83371     106   AMKennedy  1.0     2.0       1.0       2.0             NaN   \n",
       "83381     107    DHSouter  1.0     2.0       2.0       2.0             NaN   \n",
       "...       ...         ...  ...     ...       ...       ...             ...   \n",
       "84076     110    SGBreyer  2.0     2.0       2.0       1.0             NaN   \n",
       "84089     106   AMKennedy  1.0     2.0       1.0       2.0             NaN   \n",
       "84093     110    SGBreyer  2.0     2.0       2.0       1.0             NaN   \n",
       "84098     106   AMKennedy  1.0     2.0       2.0       2.0             NaN   \n",
       "84100     108     CThomas  2.0     2.0       1.0       1.0             NaN   \n",
       "\n",
       "       secondAgreement  \n",
       "83351              NaN  \n",
       "83369              NaN  \n",
       "83370              NaN  \n",
       "83371              NaN  \n",
       "83381              NaN  \n",
       "...                ...  \n",
       "84076              NaN  \n",
       "84089              NaN  \n",
       "84093              NaN  \n",
       "84098              NaN  \n",
       "84100              NaN  \n",
       "\n",
       "[171 rows x 61 columns]"
      ]
     },
     "execution_count": 75,
     "metadata": {},
     "output_type": "execute_result"
    }
   ],
   "source": [
    "scdb[(scdb[\"term\"] == 2006) & (scdb[\"opinion\"] == 2.0)]"
   ]
  },
  {
   "cell_type": "code",
   "execution_count": 57,
   "metadata": {},
   "outputs": [
    {
     "data": {
      "image/png": "[encoded data removed]",
      "text/plain": [
       "<Figure size 640x480 with 1 Axes>"
      ]
     },
     "execution_count": 57,
     "metadata": {},
     "output_type": "execute_result"
    }
   ],
   "source": [
    "averages, fig = summary_graphing.plot_opinions_per_case_by_term(opinions)\n",
    "fig"
   ]
  },
  {
   "cell_type": "code",
   "execution_count": 30,
   "metadata": {},
   "outputs": [],
   "source": [
    "opinion_types_by_author = summary_graphing.get_opinion_types_by_author(opinions)\n",
    "opinion_types_by_term = summary_graphing.get_opinion_types_by_term(opinions)"
   ]
  },
  {
   "cell_type": "code",
   "execution_count": 32,
   "metadata": {},
   "outputs": [
    {
     "data": {
      "text/plain": [
       "<contextlib.ExitStack at 0x7f32145704d0>"
      ]
     },
     "execution_count": 32,
     "metadata": {},
     "output_type": "execute_result"
    }
   ],
   "source": [
    "plt.ioff()"
   ]
  },
  {
   "cell_type": "code",
   "execution_count": 85,
   "metadata": {},
   "outputs": [
    {
     "data": {
      "text/plain": [
       "Counter({'majority': 65,\n",
       "         'dissent': 51,\n",
       "         'concurrence': 39,\n",
       "         'concurring-in-part-and-dissenting-in-part': 8})"
      ]
     },
     "execution_count": 85,
     "metadata": {},
     "output_type": "execute_result"
    }
   ],
   "source": [
    "opinion_types_by_term[\"2006\"]"
   ]
  },
  {
   "cell_type": "code",
   "execution_count": 94,
   "metadata": {},
   "outputs": [
    {
     "data": {
      "image/png": "[encoded data removed]",
      "text/plain": [
       "<Figure size 1000x500 with 1 Axes>"
      ]
     },
     "metadata": {},
     "output_type": "display_data"
    }
   ],
   "source": [
    "fig = summary_graphing.plot_opinion_types_by_term_abs(opinion_types_by_term)\n",
    "fig.savefig(\"figures/opinion_types_by_term_absolute.pdf\", bbox_inches=\"tight\")\n",
    "plt.show()"
   ]
  },
  {
   "cell_type": "code",
   "execution_count": 95,
   "metadata": {},
   "outputs": [],
   "source": [
    "fig = summary_graphing.plot_opinion_types_by_term_norm(opinion_types_by_term)\n",
    "fig.savefig(\"figures/opinion_types_by_term_normalized.pdf\", bbox_inches=\"tight\")\n",
    "fig.clear()"
   ]
  },
  {
   "cell_type": "code",
   "execution_count": 96,
   "metadata": {},
   "outputs": [],
   "source": [
    "fig = summary_graphing.plot_opinion_types_abs(opinion_types_by_author)\n",
    "fig.savefig(\"figures/opinion_types_by_author_absolute.pdf\", bbox_inches=\"tight\")\n",
    "fig.clear()"
   ]
  },
  {
   "cell_type": "code",
   "execution_count": 97,
   "metadata": {},
   "outputs": [],
   "source": [
    "fig = summary_graphing.plot_opinion_types_norm(opinion_types_by_author)\n",
    "fig.savefig(\"figures/opinion_types_by_author_normalized.pdf\", bbox_inches=\"tight\")\n",
    "fig.clear()"
   ]
  },
  {
   "cell_type": "code",
   "execution_count": 74,
   "metadata": {},
   "outputs": [],
   "source": [
    "type_counts = Counter([opinion[\"type\"] for opinion in opinions])"
   ]
  },
  {
   "cell_type": "code",
   "execution_count": 83,
   "metadata": {},
   "outputs": [],
   "source": [
    "def reorder_dict(d, ordered_keys):\n",
    "    for k in d:\n",
    "        assert k in ordered_keys\n",
    "    return {k: d[k] for k in ordered_keys}"
   ]
  },
  {
   "cell_type": "code",
   "execution_count": 82,
   "metadata": {},
   "outputs": [
    {
     "data": {
      "text/plain": [
       "{'brennan': 175,\n",
       " 'white': 226,\n",
       " 'marshall': 157,\n",
       " 'blackmun': 250,\n",
       " 'powell': 41,\n",
       " 'rehnquist': 323,\n",
       " 'stevens': 888,\n",
       " 'oconnor': 453,\n",
       " 'scalia': 848,\n",
       " 'kennedy': 523,\n",
       " 'souter': 359,\n",
       " 'thomas': 628,\n",
       " 'ginsburg': 439,\n",
       " 'breyer': 499,\n",
       " 'roberts': 160,\n",
       " 'alito': 245,\n",
       " 'sotomayor': 155,\n",
       " 'kagan': 81,\n",
       " 'gorsuch': 24,\n",
       " 'kavanaugh': 10}"
      ]
     },
     "execution_count": 82,
     "metadata": {},
     "output_type": "execute_result"
    }
   ],
   "source": [
    "author_counts = Counter([opinion[\"author\"] for opinion in opinions])\n",
    "author_counts = reorder_dict(author_counts, authors.ORDERED_JUSTICES)\n",
    "author_counts"
   ]
  },
  {
   "cell_type": "code",
   "execution_count": 28,
   "metadata": {},
   "outputs": [],
   "source": [
    "scdb_id_counts = Counter()\n",
    "for opinion in opinions:\n",
    "    scdb_id = opinion[\"scdb_id\"]\n",
    "    assert scdb_id is not None\n",
    "    scdb_id_counts[scdb_id] += 1"
   ]
  },
  {
   "cell_type": "code",
   "execution_count": 29,
   "metadata": {},
   "outputs": [
    {
     "data": {
      "text/plain": [
       "Counter({2: 986, 1: 740, 3: 637, 4: 268, 5: 100, 6: 41, 7: 5, 8: 1})"
      ]
     },
     "execution_count": 29,
     "metadata": {},
     "output_type": "execute_result"
    }
   ],
   "source": [
    "# Cases with n opinions\n",
    "Counter(scdb_id_counts.values())"
   ]
  },
  {
   "cell_type": "code",
   "execution_count": 31,
   "metadata": {},
   "outputs": [],
   "source": [
    "scdb_ids = set([opinion[\"scdb_id\"] for opinion in opinions])"
   ]
  },
  {
   "cell_type": "code",
   "execution_count": 37,
   "metadata": {},
   "outputs": [
    {
     "data": {
      "text/plain": [
       "2778"
      ]
     },
     "execution_count": 37,
     "metadata": {},
     "output_type": "execute_result"
    }
   ],
   "source": [
    "len(scdb_ids) #  cases\n"
   ]
  },
  {
   "cell_type": "code",
   "execution_count": 38,
   "metadata": {},
   "outputs": [
    {
     "data": {
      "text/plain": [
       "6484"
      ]
     },
     "execution_count": 38,
     "metadata": {},
     "output_type": "execute_result"
    }
   ],
   "source": [
    "len(opinions)  # opinions"
   ]
  },
  {
   "cell_type": "code",
   "execution_count": null,
   "metadata": {},
   "outputs": [],
   "source": [
    "author_opinion_counts = Counter()\n",
    "for opinion in op"
   ]
  },
  {
   "cell_type": "code",
   "execution_count": 8,
   "metadata": {},
   "outputs": [
    {
     "name": "stdout",
     "output_type": "stream",
     "text": [
      "brennan & 163 & 1956 & 1990\\\\\n",
      "white & 215 & 1962 & 1993\\\\\n",
      "marshall & 141 & 1967 & 1991\\\\\n",
      "blackmun & 234 & 1970 & 1994\\\\\n",
      "powell & 34 & 1972 & 1987\\\\\n",
      "rehnquist & 306 & 1972 & 2005\\\\\n",
      "stevens & 789 & 1975 & 2010\\\\\n",
      "oconnor & 437 & 1981 & 2006\\\\\n",
      "scalia & 758 & 1986 & 2016\\\\\n",
      "kennedy & 501 & 1988 & 2018\\\\\n",
      "souter & 329 & 1990 & 2009\\\\\n",
      "thomas & 558 & 1991 & 2100\\\\\n",
      "ginsburg & 398 & 1993 & 2020\\\\\n",
      "breyer & 451 & 1994 & 2022\\\\\n",
      "roberts & 137 & 2005 & 2100\\\\\n",
      "alito & 188 & 2006 & 2100\\\\\n",
      "sotomayor & 140 & 2009 & 2100\\\\\n",
      "kagan & 71 & 2010 & 2100\\\\\n",
      "gorsuch & 30 & 2017 & 2100\\\\\n",
      "kavanaugh & 21 & 2018 & 2100\\\\\n"
     ]
    }
   ],
   "source": [
    "opinions_by_author = {}\n",
    "docket_numbers = set()\n",
    "for author in authors.ORDERED_JUSTICES:\n",
    "    opinion_paths =list(Path(f\"data/cap/known_authors/{author}/\").glob(\"*.json\"))\n",
    "    num_opinions = len(opinion_paths)\n",
    "    for opinion_path in opinion_paths:\n",
    "        docket_numbers.add(opinion_path.name)\n",
    "\n",
    "    opinions_by_author[author] = num_opinions\n"
   ]
  },
  {
   "cell_type": "code",
   "execution_count": 40,
   "metadata": {},
   "outputs": [
    {
     "name": "stdout",
     "output_type": "stream",
     "text": [
      "brennan & 175 & 1956 & 1990\\\\\n",
      "white & 226 & 1962 & 1993\\\\\n",
      "marshall & 157 & 1967 & 1991\\\\\n",
      "blackmun & 250 & 1970 & 1994\\\\\n",
      "powell & 41 & 1972 & 1987\\\\\n",
      "rehnquist & 323 & 1972 & 2005\\\\\n",
      "stevens & 888 & 1975 & 2010\\\\\n",
      "oconnor & 453 & 1981 & 2006\\\\\n",
      "scalia & 848 & 1986 & 2016\\\\\n",
      "kennedy & 523 & 1988 & 2018\\\\\n",
      "souter & 359 & 1990 & 2009\\\\\n",
      "thomas & 628 & 1991 & 2100\\\\\n",
      "ginsburg & 439 & 1993 & 2020\\\\\n",
      "breyer & 499 & 1994 & 2022\\\\\n",
      "roberts & 160 & 2005 & 2100\\\\\n",
      "alito & 245 & 2006 & 2100\\\\\n",
      "sotomayor & 155 & 2009 & 2100\\\\\n",
      "kagan & 81 & 2010 & 2100\\\\\n",
      "gorsuch & 24 & 2017 & 2100\\\\\n",
      "kavanaugh & 10 & 2018 & 2100\\\\\n"
     ]
    }
   ],
   "source": [
    "for author in authors.ORDERED_JUSTICES:\n",
    "    num_opinions = author_counts[author]\n",
    "    term_start = authors.ORDERED_JUSTICES[author][0]\n",
    "    term_end = authors.ORDERED_JUSTICES[author][1]\n",
    "    print(f\"{author} & {num_opinions} & {term_start} & {term_end}\\\\\\\\\")"
   ]
  },
  {
   "cell_type": "code",
   "execution_count": 17,
   "metadata": {},
   "outputs": [
    {
     "name": "stdout",
     "output_type": "stream",
     "text": [
      "20 total justices\n",
      "2693 total cases\n",
      "5901 total opinions\n"
     ]
    }
   ],
   "source": [
    "print(f\"{len(opinions_by_author)} total justices\")\n",
    "print(f\"{len(docket_numbers)} total cases\")\n",
    "print(f\"{sum(opinions_by_author.values())} total opinions\")"
   ]
  },
  {
   "cell_type": "code",
   "execution_count": 76,
   "metadata": {},
   "outputs": [],
   "source": [
    "ops_2006 = []\n",
    "for opinion in opinions:\n",
    "    if opinion[\"term\"] == \"2006\":\n",
    "        ops_2006.append(opinion)"
   ]
  },
  {
   "cell_type": "code",
   "execution_count": 81,
   "metadata": {},
   "outputs": [
    {
     "data": {
      "text/plain": [
       "Counter({'majority': 65,\n",
       "         'dissent': 51,\n",
       "         'concurrence': 39,\n",
       "         'concurring-in-part-and-dissenting-in-part': 8})"
      ]
     },
     "execution_count": 81,
     "metadata": {},
     "output_type": "execute_result"
    }
   ],
   "source": []
  },
  {
   "cell_type": "code",
   "execution_count": null,
   "metadata": {},
   "outputs": [],
   "source": []
  },
  {
   "cell_type": "code",
   "execution_count": 69,
   "metadata": {},
   "outputs": [],
   "source": [
    "opinion_types_by_author = defaultdict(Counter)\n",
    "for author in authors.ORDERED_JUSTICES:\n",
    "    for opinion in opinions:\n",
    "        author = opinion[\"author\"]\n",
    "        op_type = opinion[\"type\"]\n",
    "        if op_type in [\"majority\", \"concurrence\", \"dissent\", \"concurring-in-part-and-dissenting-in-part\"]:\n",
    "            opinion_types_by_author[author][op_type] += 1"
   ]
  },
  {
   "cell_type": "code",
   "execution_count": 72,
   "metadata": {},
   "outputs": [
    {
     "data": {
      "image/png": "[encoded data removed]",
      "text/plain": [
       "<Figure size 640x480 with 1 Axes>"
      ]
     },
     "metadata": {},
     "output_type": "display_data"
    }
   ],
   "source": [
    "width = .5\n",
    "bottom = np.zeros(len(authors.ORDERED_JUSTICES))\n",
    "auths = list(authors.ORDERED_JUSTICES.keys())\n",
    "for category in [\"majority\", \"concurrence\", \"dissent\", \"concurring-in-part-and-dissenting-in-part\"]:\n",
    "    vals = [opinion_types_by_author[author].get(category, 0) for author in authors.ORDERED_JUSTICES]\n",
    "    plt.bar(auths, vals, width = .5, label=category,\n",
    "            bottom=bottom)\n",
    "    bottom += vals\n",
    "\n",
    "plt.xticks(rotation=90)\n",
    "plt.legend()\n",
    "plt.title(\"Opinion Types by author (absolute)\")\n",
    "plt.savefig(\"figures/opinion_types_by_author_absolute.pdf\")\n",
    "plt.show()"
   ]
  },
  {
   "cell_type": "code",
   "execution_count": 73,
   "metadata": {},
   "outputs": [
    {
     "data": {
      "image/png": "[encoded data removed]",
      "text/plain": [
       "<Figure size 640x480 with 1 Axes>"
      ]
     },
     "metadata": {},
     "output_type": "display_data"
    }
   ],
   "source": [
    "width = .5\n",
    "bottom = np.zeros(len(authors.ORDERED_JUSTICES))\n",
    "auths = list(authors.ORDERED_JUSTICES.keys())\n",
    "\n",
    "for category in [\"majority\", \"concurrence\", \"dissent\", \"concurring-in-part-and-dissenting-in-part\"]:\n",
    "    totals = [sum(opinion_types_by_author[author].values()) for author in authors.ORDERED_JUSTICES]\n",
    "    vals = [opinion_types_by_author[author].get(category, 0) for author in authors.ORDERED_JUSTICES]\n",
    "    ratios = [(v / t) for v, t in zip(vals, totals)]\n",
    "    plt.bar(auths, ratios, width = .5, label=category,\n",
    "            bottom=bottom)\n",
    "    bottom += ratios\n",
    "\n",
    "plt.xticks(rotation=90)\n",
    "\n",
    "plt.legend()\n",
    "plt.ylim(0, 1)\n",
    "plt.title(\"Opinion Types by author (normalized)\")\n",
    "plt.savefig(\"figures/opinion_types_by_author_normalized.pdf\")\n",
    "plt.show()"
   ]
  },
  {
   "cell_type": "code",
   "execution_count": null,
   "metadata": {},
   "outputs": [],
   "source": [
    "# Tokens per opinion\n",
    "# Number of opinions\n",
    "# Focal terms over time"
   ]
  },
  {
   "cell_type": "markdown",
   "metadata": {},
   "source": [
    "How many cases total?"
   ]
  },
  {
   "cell_type": "markdown",
   "metadata": {},
   "source": [
    "How many opinions per case on average?"
   ]
  },
  {
   "cell_type": "markdown",
   "metadata": {},
   "source": [
    "How many opinions per year?"
   ]
  },
  {
   "cell_type": "markdown",
   "metadata": {},
   "source": [
    "How many cases per year?"
   ]
  },
  {
   "cell_type": "markdown",
   "metadata": {},
   "source": [
    "Ratio of opinion types per author"
   ]
  }
 ],
 "metadata": {
  "kernelspec": {
   "display_name": "scotus-metalang",
   "language": "python",
   "name": "python3"
  },
  "language_info": {
   "codemirror_mode": {
    "name": "ipython",
    "version": 3
   },
   "file_extension": ".py",
   "mimetype": "text/x-python",
   "name": "python",
   "nbconvert_exporter": "python",
   "pygments_lexer": "ipython3",
   "version": "3.11.8"
  }
 },
 "nbformat": 4,
 "nbformat_minor": 2
}
