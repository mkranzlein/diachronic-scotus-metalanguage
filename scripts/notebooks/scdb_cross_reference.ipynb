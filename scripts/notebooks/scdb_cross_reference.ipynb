{
 "cells": [
  {
   "cell_type": "code",
   "execution_count": 1,
   "metadata": {},
   "outputs": [],
   "source": [
    "%cd -q ../.."
   ]
  },
  {
   "cell_type": "code",
   "execution_count": null,
   "metadata": {},
   "outputs": [],
   "source": [
    "import json\n",
    "from collections import Counter, defaultdict\n",
    "from pathlib import Path\n",
    "import pandas as pd\n",
    "from matplotlib import pyplot as plt\n",
    "\n",
    "from scotus_metalang.diachronic_analysis.authors import ORDERED_JUSTICES, SCDB_NAME_TO_JUSTICE\n",
    "\n",
    "pd.set_option(\"display.max_columns\", None)"
   ]
  },
  {
   "cell_type": "code",
   "execution_count": 2,
   "metadata": {},
   "outputs": [],
   "source": [
    "scdb = pd.read_csv(\"data/scdb/SCDB_2023_01_justiceCentered_Docket.csv\", encoding=\"cp1252\")\n",
    "scdb_86_onward = scdb[(scdb.term >= 1986) & (scdb.term <= 2019)]\n",
    "\n",
    "def get_scdb_docket_numbers(docket_number):\n",
    "    \"\"\"Formats single CAP docket num into list of possible SCDB docket nums.\"\"\"\n",
    "    if docket_number == \"141-orig\":\n",
    "        return [\"22O141\"]  # Special case that doesn't seem to follow any of the rules\n",
    "    if \"orig\" in docket_number.lower():\n",
    "        num = docket_number.split(\"-\")[0]\n",
    "        return [f\"{num}, Orig.\", f\"No. {num}, Orig.\", f\"{num} ORIG\"]\n",
    "    else:\n",
    "        return [docket_number]\n",
    "\n",
    "def get_term(df, docket_numbers):\n",
    "    return df[df[\"docket\"].isin(docket_numbers)][\"term\"].iloc[0]\n",
    "\n",
    "def get_expected_opinions(df, docket_numbers):\n",
    "    return len(df[(df[\"docket\"].isin(docket_numbers)) & (df[\"opinion\"] == 2.0)])\n",
    "\n",
    "def get_expected_opinion_authors(df, docket_numbers):\n",
    "    result = []\n",
    "    for scdb_author in df[(df[\"docket\"].isin(docket_numbers)) &\n",
    "                          (scdb_86_onward[\"opinion\"] == 2.0)][\"justiceName\"].values:\n",
    "        result.append(SCDB_NAME_TO_JUSTICE[scdb_author])\n",
    "    return result"
   ]
  },
  {
   "cell_type": "code",
   "execution_count": 3,
   "metadata": {},
   "outputs": [
    {
     "data": {
      "text/plain": [
       "['thomas', 'alito', 'sotomayor']"
      ]
     },
     "execution_count": 3,
     "metadata": {},
     "output_type": "execute_result"
    }
   ],
   "source": [
    "get_expected_opinion_authors(scdb_86_onward, [\"13-1433\"])"
   ]
  },
  {
   "cell_type": "markdown",
   "metadata": {},
   "source": [
    "### Calculate opinion hit rate by author"
   ]
  },
  {
   "cell_type": "code",
   "execution_count": 4,
   "metadata": {},
   "outputs": [
    {
     "name": "stdout",
     "output_type": "stream",
     "text": [
      "Percentage of expected opinions retrieved from CAP:\n",
      "brennan 0.976\n",
      "white 0.986\n",
      "marshall 0.993\n",
      "blackmun 0.963\n",
      "powell 1.000\n",
      "rehnquist 0.975\n",
      "stevens 0.966\n",
      "oconnor 0.971\n",
      "scalia 0.929\n",
      "kennedy 0.956\n",
      "souter 0.932\n",
      "thomas 0.829\n",
      "ginsburg 0.881\n",
      "breyer 0.883\n",
      "roberts 0.792\n",
      "alito 0.715\n",
      "sotomayor 0.737\n",
      "kagan 0.755\n",
      "gorsuch 0.612\n",
      "kavanaugh 0.808\n"
     ]
    }
   ],
   "source": [
    "# Gather opinions from both sources by docket number\n",
    "cap_opinions_by_docket_num = defaultdict(list)\n",
    "scdb_opinions_by_docket_num = {}\n",
    "for opinion_filepath in Path(\"data/cap/known_authors\").glob(\"*/*.json\"):\n",
    "    docket_number = opinion_filepath.stem\n",
    "    author = opinion_filepath.parent.name\n",
    "    cap_opinions_by_docket_num[docket_number].append(author)\n",
    "    scdb_docket_numbers = get_scdb_docket_numbers(docket_number)\n",
    "    expected_opinions = get_expected_opinions(scdb_86_onward, scdb_docket_numbers)\n",
    "    scdb_opinions_by_docket_num[docket_number] = expected_opinions\n",
    "\n",
    "# Gather opinions by author\n",
    "actual_opinions_by_author = Counter()\n",
    "expected_opinions_by_author = Counter()\n",
    "for docket_number, actual_authors in cap_opinions_by_docket_num.items():\n",
    "    scdb_docket_numbers = get_scdb_docket_numbers(docket_number)\n",
    "    expected_authors = get_expected_opinion_authors(scdb_86_onward, scdb_docket_numbers)\n",
    "    for author in actual_authors:\n",
    "        actual_opinions_by_author[author] += 1\n",
    "    # Union because there's at least one case where SCDB is missing an author\n",
    "    expected_authors = set(expected_authors).union(set(actual_authors))\n",
    "    for author in expected_authors:\n",
    "        expected_opinions_by_author[author] += 1\n",
    "\n",
    "# Compare CAP opinions to SCDB Expectations\n",
    "print(\"Percentage of expected opinions retrieved from CAP:\")\n",
    "for author in ORDERED_JUSTICES:\n",
    "    actual_count = actual_opinions_by_author[author]\n",
    "    hit_rate = actual_count / expected_opinions_by_author[author]\n",
    "    print(author, f\"{hit_rate:.03f}\")"
   ]
  },
  {
   "cell_type": "markdown",
   "metadata": {},
   "source": [
    "### Plot missing opinions by year"
   ]
  },
  {
   "cell_type": "code",
   "execution_count": 5,
   "metadata": {},
   "outputs": [
    {
     "data": {
      "image/png": "[encoded data removed]",
      "text/plain": [
       "<Figure size 640x480 with 1 Axes>"
      ]
     },
     "metadata": {},
     "output_type": "display_data"
    }
   ],
   "source": [
    "missing_count_by_year = defaultdict(Counter)\n",
    "expected_count_by_year = defaultdict(Counter)\n",
    "for docket_number, actual_authors in cap_opinions_by_docket_num.items():\n",
    "    scdb_docket_numbers = get_scdb_docket_numbers(docket_number)\n",
    "    expected_authors = get_expected_opinion_authors(scdb_86_onward, scdb_docket_numbers)\n",
    "    term = get_term(scdb_86_onward, scdb_docket_numbers)\n",
    "    expected_authors = set(expected_authors).union(set(actual_authors))\n",
    "    missing_authors = set(expected_authors) - set(actual_authors)\n",
    "    for author in missing_authors:\n",
    "        missing_count_by_year[term][author] += 1\n",
    "    for author in expected_authors:\n",
    "        expected_count_by_year[term][author] += 1\n",
    "missing_ratio_by_year = [sum(missing_count_by_year[y].values()) / sum(expected_count_by_year[y].values())\n",
    "                         for y in sorted(missing_count_by_year)]\n",
    "\n",
    "plt.bar(sorted(missing_count_by_year.keys()), missing_ratio_by_year)\n",
    "plt.title(\"% Expected Opinions Missing by Term\")\n",
    "plt.show()"
   ]
  },
  {
   "cell_type": "code",
   "execution_count": 6,
   "metadata": {},
   "outputs": [],
   "source": [
    "total_missing = 0\n",
    "total = 0\n",
    "for docket_number, expectation in scdb_opinions_by_docket_num.items(\n",
    "):\n",
    "    num_missing = expectation - len(cap_opinions_by_docket_num[docket_number])\n",
    "    if num_missing >= 0:\n",
    "        total_missing += num_missing\n",
    "    total += expectation"
   ]
  },
  {
   "cell_type": "code",
   "execution_count": 7,
   "metadata": {},
   "outputs": [
    {
     "name": "stdout",
     "output_type": "stream",
     "text": [
      "0.086\n"
     ]
    }
   ],
   "source": [
    "print(f\"{total_missing / (total_missing + total):.03f}\")"
   ]
  },
  {
   "cell_type": "code",
   "execution_count": 38,
   "metadata": {},
   "outputs": [],
   "source": [
    "missing_by_docket = defaultdict(dict)\n",
    "for docket_number, actual_authors in cap_opinions_by_docket_num.items():\n",
    "    scdb_docket_numbers = get_scdb_docket_numbers(docket_number)\n",
    "    expected_authors = set(get_expected_opinion_authors(scdb_86_onward, scdb_docket_numbers))\n",
    "    actual_authors = set(actual_authors)\n",
    "    if len(not_in_scdb := list(actual_authors - expected_authors)) > 0:\n",
    "        missing_by_docket[docket_number][\"not_in_scdb\"] = not_in_scdb\n",
    "    if len(not_in_cap := list(expected_authors- actual_authors)) > 0:\n",
    "        missing_by_docket[docket_number][\"not_in_cap\"] = not_in_cap"
   ]
  },
  {
   "cell_type": "code",
   "execution_count": 42,
   "metadata": {},
   "outputs": [],
   "source": [
    "with open(\"data/scdb/missing_by_docket_number.json\", \"w\") as f:\n",
    "    json.dump(missing_by_docket, f)"
   ]
  },
  {
   "cell_type": "code",
   "execution_count": 47,
   "metadata": {},
   "outputs": [],
   "source": [
    "scdb = pd.read_csv(\"data/scdb/SCDB_2023_01_justiceCentered_Docket.csv\", encoding=\"cp1252\")\n",
    "scdb_86_onward = scdb[(scdb.term >= 1986) & (scdb.term <= 2019)]"
   ]
  }
 ],
 "metadata": {
  "kernelspec": {
   "display_name": "scotus-metalang",
   "language": "python",
   "name": "python3"
  },
  "language_info": {
   "codemirror_mode": {
    "name": "ipython",
    "version": 3
   },
   "file_extension": ".py",
   "mimetype": "text/x-python",
   "name": "python",
   "nbconvert_exporter": "python",
   "pygments_lexer": "ipython3",
   "version": "3.11.8"
  }
 },
 "nbformat": 4,
 "nbformat_minor": 2
}
