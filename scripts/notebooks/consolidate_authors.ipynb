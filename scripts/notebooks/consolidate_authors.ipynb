{
 "cells": [
  {
   "cell_type": "code",
   "execution_count": null,
   "metadata": {},
   "outputs": [],
   "source": [
    "%cd -q ../.."
   ]
  },
  {
   "cell_type": "code",
   "execution_count": 1,
   "metadata": {},
   "outputs": [],
   "source": [
    "import shutil\n",
    "from pathlib import Path\n",
    "\n",
    "from scotus_metalang.authors import AUTHOR_MAP"
   ]
  },
  {
   "cell_type": "code",
   "execution_count": null,
   "metadata": {},
   "outputs": [],
   "source": [
    "# Used to manually create author map\n",
    "sorted([x.name for x in list(Path(\"data/harvard_cap/\").glob(\"*\"))])"
   ]
  },
  {
   "cell_type": "code",
   "execution_count": 23,
   "metadata": {},
   "outputs": [],
   "source": [
    "# Copy raw files into cleaned up folder\n",
    "for directory in list(Path(\"data/cap/raw\").glob(\"*\")):\n",
    "    dir_name = directory.name\n",
    "    new_dir_name = AUTHOR_MAP[dir_name]\n",
    "    new_dir_path = Path(\"data/cap/cleaned_authors\", new_dir_name)\n",
    "    Path.mkdir(new_dir_path, exist_ok=True, parents=True)\n",
    "    for filepath in directory.glob(\"*.json\"):\n",
    "        filename = filepath.name\n",
    "        new_filepath = Path(new_dir_path, filename)\n",
    "        shutil.copy(filepath, new_filepath)"
   ]
  },
  {
   "cell_type": "code",
   "execution_count": 21,
   "metadata": {},
   "outputs": [],
   "source": [
    "# Clean up \"harvard_cap\" folder and delete once done\n",
    "for directory in list(Path(\"data/cap_predictions\").glob(\"*\")):\n",
    "    dir_name = directory.name\n",
    "    new_dir_name = AUTHOR_MAP[dir_name]\n",
    "    new_dir_path = Path(\"data/cap/predictions\", new_dir_name)\n",
    "    Path.mkdir(new_dir_path, exist_ok=True, parents=True)\n",
    "    for filepath in directory.glob(\"*.txt\"):\n",
    "        filename = filepath.name\n",
    "        new_filepath = Path(new_dir_path, filename)\n",
    "        filepath.rename(new_filepath)\n",
    "    directory.rmdir()"
   ]
  }
 ],
 "metadata": {
  "kernelspec": {
   "display_name": "scotus-metalang",
   "language": "python",
   "name": "python3"
  },
  "language_info": {
   "codemirror_mode": {
    "name": "ipython",
    "version": 3
   },
   "file_extension": ".py",
   "mimetype": "text/x-python",
   "name": "python",
   "nbconvert_exporter": "python",
   "pygments_lexer": "ipython3",
   "version": "3.11.8"
  }
 },
 "nbformat": 4,
 "nbformat_minor": 2
}
