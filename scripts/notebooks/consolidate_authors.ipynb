{
 "cells": [
  {
   "cell_type": "code",
   "execution_count": 1,
   "metadata": {},
   "outputs": [],
   "source": [
    "from pathlib import Path"
   ]
  },
  {
   "cell_type": "code",
   "execution_count": 2,
   "metadata": {},
   "outputs": [],
   "source": [
    "%cd -q ../.."
   ]
  },
  {
   "cell_type": "code",
   "execution_count": null,
   "metadata": {},
   "outputs": [],
   "source": [
    "# Used to manually create author map\n",
    "sorted([x.name for x in list(Path(\"data/harvard_cap/\").glob(\"*\"))])"
   ]
  },
  {
   "cell_type": "code",
   "execution_count": 12,
   "metadata": {},
   "outputs": [],
   "source": [
    "author_map = {\n",
    "    '._justice_marshall': \"marshall\",\n",
    "    'chief_justice._rehnquist': \"rehnquist\",\n",
    "    'chief_justice_rehnquist': \"rehnquist\",\n",
    "    'chief_justice_rehnquist,': \"rehnquist\",\n",
    "    'chief_justice_roberts': \"roberts\",\n",
    "    'chief_justice_roberts,': \"roberts\",\n",
    "    'justice_alito': \"alito\",\n",
    "    'justice_alito,': \"alito\",\n",
    "    'justice_alito,_with_whom_justice_souter_and_justice_thomas_join,': \"alito\",\n",
    "    'justice_auto': \"alito\",\n",
    "    'justice_blackmun': \"blackmun\",\n",
    "    'justice_blackmun,': \"blackmun\",\n",
    "    'justice_blackmun,_justice_o’connor,': \"blackmun\",\n",
    "    'justice_brennan': \"brennan\",\n",
    "    'justice_brennan,': \"brennan\",\n",
    "    'justice_breyer': \"breyer\",\n",
    "    'justice_breyer,': \"breyer\",\n",
    "    'justice_breyer,_with_whom_justice_ginsburg': \"breyer\",\n",
    "    'justice_ginsburg': \"ginsburg\",\n",
    "    'justice_ginsburg,': \"ginsburg\",\n",
    "    'justice_ginsburg,_with_whom_justice_souter_joins,': \"ginsburg\",\n",
    "    'justice_kennedy': \"kennedy\",\n",
    "    'justice_kennedy,': \"kennedy\",\n",
    "    'justice_marshall': \"marshall\",\n",
    "    'justice_marshall,': \"marshall\",\n",
    "    'justice_o’connor': \"oconnor\",\n",
    "    'justice_o’connor,': \"oconnor\",\n",
    "    'justice_o’connor’s': \"oconnor\",\n",
    "    'justice_powell': \"powell\",\n",
    "    'justice_powell,': \"powell\",\n",
    "    'justice_powell’s': \"powell\",\n",
    "    'justice_sc_alia,': \"scalia\",\n",
    "    'justice_scalia': \"scalia\",\n",
    "    'justice_scalia,': \"scalia\",\n",
    "    'justice_scalia,_justice_thomas,': \"scalia\",\n",
    "    'justice_scalia,_with_whom_justice_thomas_and_justice_alito_join,': \"scalia\",\n",
    "    'justice_scalia,_with_whom_the_chief_justice_and_justice_thomas_join,': \"scalia\",\n",
    "    'justice_softer,': \"souter\",\n",
    "    'justice_soutee,': \"souter\",\n",
    "    'justice_souter': \"souter\",\n",
    "    'justice_souter,': \"souter\",\n",
    "    'justice_souter,_with_whom_justice_ginsburg_joins,': \"souter\",\n",
    "    'justice_stevens': \"stevens\",\n",
    "    'justice_stevens,': \"stevens\",\n",
    "    'justice_stevens,_justice_o’connor,': \"stevens\",\n",
    "    'justice_stevens,_vii': \"stevens\",\n",
    "    'justice_thomas': \"thomas\",\n",
    "    'justice_thomas,': \"thomas\",\n",
    "    'justice_thomas_justice_stevens,': \"thomas\",\n",
    "    'justice_white': \"white\",\n",
    "    'justice_white,': \"white\",\n",
    "    'per_curiam.': \"percuriam\",\n",
    "    '|,;i7chief_justice_rehnquist': \"rehnquist\"\n",
    "}"
   ]
  },
  {
   "cell_type": "code",
   "execution_count": 22,
   "metadata": {},
   "outputs": [],
   "source": [
    "import shutil"
   ]
  },
  {
   "cell_type": "code",
   "execution_count": 23,
   "metadata": {},
   "outputs": [],
   "source": [
    "# Copy raw files into cleaned up folder\n",
    "for directory in list(Path(\"data/cap/raw\").glob(\"*\")):\n",
    "    dir_name = directory.name\n",
    "    new_dir_name = author_map[dir_name]\n",
    "    new_dir_path = Path(\"data/cap/cleaned_authors\", new_dir_name)\n",
    "    Path.mkdir(new_dir_path, exist_ok=True, parents=True)\n",
    "    for filepath in directory.glob(\"*.json\"):\n",
    "        filename = filepath.name\n",
    "        new_filepath = Path(new_dir_path, filename)\n",
    "        shutil.copy(filepath, new_filepath)"
   ]
  },
  {
   "cell_type": "code",
   "execution_count": 21,
   "metadata": {},
   "outputs": [],
   "source": [
    "# Clean up \"harvard_cap\" folder and delete once done\n",
    "for directory in list(Path(\"data/cap_predictions\").glob(\"*\")):\n",
    "    dir_name = directory.name\n",
    "    new_dir_name = author_map[dir_name]\n",
    "    new_dir_path = Path(\"data/cap/predictions\", new_dir_name)\n",
    "    Path.mkdir(new_dir_path, exist_ok=True, parents=True)\n",
    "    for filepath in directory.glob(\"*.txt\"):\n",
    "        filename = filepath.name\n",
    "        new_filepath = Path(new_dir_path, filename)\n",
    "        filepath.rename(new_filepath)\n",
    "    directory.rmdir()"
   ]
  },
  {
   "cell_type": "code",
   "execution_count": null,
   "metadata": {},
   "outputs": [],
   "source": []
  }
 ],
 "metadata": {
  "kernelspec": {
   "display_name": "scotus-metalang",
   "language": "python",
   "name": "python3"
  },
  "language_info": {
   "codemirror_mode": {
    "name": "ipython",
    "version": 3
   },
   "file_extension": ".py",
   "mimetype": "text/x-python",
   "name": "python",
   "nbconvert_exporter": "python",
   "pygments_lexer": "ipython3",
   "version": "3.11.8"
  }
 },
 "nbformat": 4,
 "nbformat_minor": 2
}
