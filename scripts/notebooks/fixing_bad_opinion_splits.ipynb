{
 "cells": [
  {
   "cell_type": "code",
   "execution_count": 20,
   "metadata": {},
   "outputs": [],
   "source": [
    "%cd -q ../.."
   ]
  },
  {
   "cell_type": "code",
   "execution_count": 24,
   "metadata": {},
   "outputs": [],
   "source": [
    "import json\n",
    "import re\n",
    "import time\n",
    "from itertools import chain\n",
    "from pathlib import Path"
   ]
  },
  {
   "cell_type": "code",
   "execution_count": null,
   "metadata": {},
   "outputs": [],
   "source": [
    "with open(\"data/scdb/missing_by_docket_number.json\", \"r\") as f:\n",
    "    missing_by_docket_number = json.load(f)"
   ]
  },
  {
   "cell_type": "code",
   "execution_count": 35,
   "metadata": {},
   "outputs": [],
   "source": [
    "bad_split_filepaths = []\n",
    "for opinion_filepath in sorted(Path(\"data/cap/known_authors\").glob(\"*/*.json\"), key=lambda x: x.stem):\n",
    "    docket_number = opinion_filepath.stem\n",
    "    if docket_number in missing_by_docket_number:\n",
    "        if len(missing_by_docket_number[docket_number].get(\"not_in_cap\", [])) > 0:\n",
    "            bad_split_filepaths.append(opinion_filepath)"
   ]
  },
  {
   "cell_type": "code",
   "execution_count": 36,
   "metadata": {},
   "outputs": [
    {
     "data": {
      "text/plain": [
       "{'not_in_cap': ['souter']}"
      ]
     },
     "execution_count": 36,
     "metadata": {},
     "output_type": "execute_result"
    }
   ],
   "source": [
    "missing_by_docket_number[\"00-511\"]"
   ]
  },
  {
   "cell_type": "code",
   "execution_count": null,
   "metadata": {},
   "outputs": [],
   "source": [
    "sum([len(x.get(\"not_in_scdb\", [])) for x in missing_by_docket_number.values()])\n",
    "len([x for x in missing_by_docket_number.values() if x.get(\"not_in_cap\", None) is not None])\n",
    "sum([len(x.get(\"not_in_cap\", [])) for x in missing_by_docket_number.values()])"
   ]
  },
  {
   "cell_type": "code",
   "execution_count": null,
   "metadata": {},
   "outputs": [],
   "source": [
    "bad_split_filepaths"
   ]
  },
  {
   "cell_type": "code",
   "execution_count": 90,
   "metadata": {},
   "outputs": [],
   "source": [
    "re.match(\"(?=.*justice)((?=.*concurring)|(?=.*dissenting))\", \"no  dissenting\")"
   ]
  },
  {
   "cell_type": "code",
   "execution_count": 170,
   "metadata": {},
   "outputs": [],
   "source": [
    "def get_heuristic_match(opinion_paragraphs: list[str]):\n",
    "    for i, paragraph in enumerate(opinion_paragraphs[5:]):\n",
    "        if re.match(\"(?=.*justice)((?=.*concurring)|(?=.*dissenting))\", paragraph.lower()) is not None:\n",
    "            if len(paragraph) > 200:\n",
    "                continue\n",
    "            #if paragraph.lower().startswith(\"justice\"):\n",
    "            return opinion_paragraphs[5+i-1:5+i+2]\n",
    "    return None"
   ]
  },
  {
   "cell_type": "code",
   "execution_count": 214,
   "metadata": {},
   "outputs": [],
   "source": [
    "def get_heuristic_matches(opinion_paragraphs: list[str]):\n",
    "    matching_paragraphs = []\n",
    "    for paragraph in opinion_paragraphs[5:]:\n",
    "        if re.match(\"(?=.*justice)((?=.*concurring)|(?=.*dissenting))\", paragraph.lower()) is not None:\n",
    "            # if len(paragraph) > 400:\n",
    "            #     continue\n",
    "            # if not (paragraph.lower().startswith(\"justice\") or paragraph.lower().startswith(\"chief\")):\n",
    "            #     continue\n",
    "            # if not paragraph.lower().startswith(\"justice\"):\n",
    "            #     continue\n",
    "            matching_paragraphs.append(paragraph)\n",
    "    return matching_paragraphs\n",
    "\n",
    "def opinion_has_fix(opinion_filepath: Path):\n",
    "    with open(opinion_filepath, \"r\") as f:\n",
    "        text = json.load(f)[\"text\"]\n",
    "        paragraphs = text.split(\"\\n\")\n",
    "        result = get_heuristic_matches(paragraphs)\n",
    "        return len(result) > 0, result"
   ]
  },
  {
   "cell_type": "code",
   "execution_count": null,
   "metadata": {},
   "outputs": [
    {
     "data": {
      "text/plain": [
       "(True,\n",
       " ['It is so ordered.',\n",
       "  'Justice Alito, with whom The Chief Justice, Justice Kennedy, and Justice Thomas join, dissenting.',\n",
       "  'I disagree with the Court’s conclusion that a criminal conviction must .automatically be reversed whenever a trial court errs in applying its rules regarding pro hac vice admissions and as a result prevents a defendant from being represented at trial by the defendant’s first-choice attorney. Instead, a defendant should be required to make at least some showing that the trial court’s erroneous ruling adversely affected the quality of assistance that the defendant received. In my view, the majority’s contrary holding is based on an incorrect interpretation of the Sixth Amendment and a misapplication of harmless-error principles. I respectfully dissent.'])"
      ]
     },
     "metadata": {},
     "output_type": "display_data"
    }
   ],
   "source": [
    "opinion_has_fix(Path(\"data/cap/known_authors/scalia/05-352.json\"))"
   ]
  },
  {
   "cell_type": "code",
   "execution_count": 216,
   "metadata": {},
   "outputs": [
    {
     "data": {
      "text/plain": [
       "1082"
      ]
     },
     "execution_count": 216,
     "metadata": {},
     "output_type": "execute_result"
    }
   ],
   "source": [
    "total_matches = 0\n",
    "correctable_filepaths = []\n",
    "all_paragraphs = []\n",
    "for filepath in bad_split_filepaths:\n",
    "    has_matches, matches = opinion_has_fix(filepath)\n",
    "    if has_matches:\n",
    "        correctable_filepaths.append(filepath)\n",
    "        total_matches += len(matches)\n",
    "        all_paragraphs.append(matches)\n",
    "total_matches"
   ]
  },
  {
   "cell_type": "code",
   "execution_count": 218,
   "metadata": {},
   "outputs": [],
   "source": [
    "all_paragraphs = list(chain(*all_paragraphs))"
   ]
  },
  {
   "cell_type": "code",
   "execution_count": 225,
   "metadata": {},
   "outputs": [],
   "source": [
    "with open(\"heuristic_matches.txt\", \"w\") as f:\n",
    "    f.writelines(\"\\n\".join(all_paragraphs))"
   ]
  },
  {
   "cell_type": "code",
   "execution_count": 172,
   "metadata": {},
   "outputs": [
    {
     "data": {
      "text/plain": [
       "335"
      ]
     },
     "execution_count": 172,
     "metadata": {},
     "output_type": "execute_result"
    }
   ],
   "source": [
    "len(correctable_filepaths)"
   ]
  },
  {
   "cell_type": "code",
   "execution_count": null,
   "metadata": {},
   "outputs": [],
   "source": [
    "from IPython.display import clear_output"
   ]
  },
  {
   "cell_type": "code",
   "execution_count": 164,
   "metadata": {},
   "outputs": [],
   "source": [
    "def check_results(filepaths):\n",
    "    num_correct = 0\n",
    "    total = 0\n",
    "    for filepath in filepaths:\n",
    "        result = opinion_has_fix(filepath)[1][1]\n",
    "        print(result, flush=True)\n",
    "        time.sleep(.1)\n",
    "        x = input()\n",
    "        if x == \"\":\n",
    "            num_correct += 1\n",
    "        total += 1\n",
    "        if x == \"q\":\n",
    "            return num_correct, total\n",
    "\n",
    "        clear_output(wait=True)"
   ]
  },
  {
   "cell_type": "code",
   "execution_count": 165,
   "metadata": {},
   "outputs": [
    {
     "name": "stdout",
     "output_type": "stream",
     "text": [
      "Justice THOMAS, with whom Justice GINSBURGjoins, dissenting.\n"
     ]
    }
   ],
   "source": [
    "correct, total = check_results(correctable_filepaths)"
   ]
  },
  {
   "cell_type": "code",
   "execution_count": 166,
   "metadata": {},
   "outputs": [
    {
     "name": "stdout",
     "output_type": "stream",
     "text": [
      "106 126 0.8412698412698413\n"
     ]
    }
   ],
   "source": [
    "print(correct, total, correct/total)"
   ]
  },
  {
   "cell_type": "code",
   "execution_count": null,
   "metadata": {},
   "outputs": [],
   "source": [
    "re.match()"
   ]
  },
  {
   "cell_type": "code",
   "execution_count": 19,
   "metadata": {},
   "outputs": [
    {
     "data": {
      "text/plain": [
       "<re.Match object; span=(0, 0), match=''>"
      ]
     },
     "execution_count": 19,
     "metadata": {},
     "output_type": "execute_result"
    }
   ],
   "source": [
    "val = \"Justice dissenting\"\n",
    "re.match(\"(?=.*justice)(?=.*concurring)|(?=.*dissenting)\", val.lower())"
   ]
  }
 ],
 "metadata": {
  "kernelspec": {
   "display_name": "scotus-metalang",
   "language": "python",
   "name": "python3"
  },
  "language_info": {
   "codemirror_mode": {
    "name": "ipython",
    "version": 3
   },
   "file_extension": ".py",
   "mimetype": "text/x-python",
   "name": "python",
   "nbconvert_exporter": "python",
   "pygments_lexer": "ipython3",
   "version": "3.11.8"
  }
 },
 "nbformat": 4,
 "nbformat_minor": 2
}
